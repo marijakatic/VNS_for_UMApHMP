{
 "cells": [
  {
   "attachments": {},
   "cell_type": "markdown",
   "metadata": {
    "id": "uCyLi4RjiHR9"
   },
   "source": [
    "## Setup"
   ]
  },
  {
   "cell_type": "code",
   "execution_count": 1,
   "metadata": {
    "colab": {
     "base_uri": "https://localhost:8080/"
    },
    "id": "HhkamfuF-jq9",
    "outputId": "f08cbef0-33dc-4a22-8b65-4bba9dba7dc9"
   },
   "outputs": [],
   "source": [
    "# !pip install docplex"
   ]
  },
  {
   "cell_type": "code",
   "execution_count": 2,
   "metadata": {
    "id": "s4EGFzab-0JZ"
   },
   "outputs": [],
   "source": [
    "from docplex.mp.model import Model\n",
    "\n",
    "import numpy as np\n",
    "from numpy import sqrt\n",
    "import matplotlib.pyplot as plt \n",
    "\n",
    "from plot_solution import plot_solution"
   ]
  },
  {
   "attachments": {},
   "cell_type": "markdown",
   "metadata": {
    "id": "r27Vi7Kqfw3I"
   },
   "source": [
    "## Some functions that will be needed"
   ]
  },
  {
   "cell_type": "code",
   "execution_count": 3,
   "metadata": {
    "id": "bUJ-zy7Nfrtw"
   },
   "outputs": [],
   "source": [
    "# Calculate the total flow between every pair of nodes given allocated variables from the solution\n",
    "def get_flow(X_allocated, Y_allocated, Z_allocated):\n",
    "  flow = np.zeros((n,n))\n",
    "\n",
    "  # Add up Zik \n",
    "  for i in Range:\n",
    "    for k in Range:\n",
    "      flow[i,k] += Z_allocated[i,k]\n",
    "  \n",
    "  # Add up Xilj\n",
    "  for i in Range:\n",
    "    for l in Range:\n",
    "      for j in Range:\n",
    "        flow[l,j] += X_allocated[i,l,j]\n",
    "\n",
    "  # Add up Yikl\n",
    "  for i in Range:\n",
    "    for k in Range:\n",
    "      for l in Range:\n",
    "        flow[k,l] += Y_allocated[i,k,l]\n",
    "\n",
    "  return flow"
   ]
  },
  {
   "cell_type": "code",
   "execution_count": 4,
   "metadata": {
    "id": "CfK8S9vciWOK"
   },
   "outputs": [],
   "source": [
    "# TODO (there is sth wrong with this method)\n",
    "# Calculate optimal paths between node pairs for given allocated variables from the solution\n",
    "def get_paths(X_allocated, Y_allocated, Z_allocated):\n",
    "  # path for every pair of nodes \n",
    "  paths = {}\n",
    "  for i in Range:\n",
    "    for j in Range:\n",
    "      if i == j:\n",
    "        continue\n",
    "      # node-hub pairs\n",
    "      node_hub_pairs = [(i,k) for k in Range if Z_allocated[i,k] > 0]\n",
    "      hubs_after_i = [node_hub_pair[1] for node_hub_pair in node_hub_pairs]\n",
    "      # hub-hub pairs orgiginating form i\n",
    "      hub_hub_pairs = [(k,l) for k in Range for l in Range if Y_allocated[i,k,l] > 0]\n",
    "      # hub-node pairs originating from i destinating in j\n",
    "      hub_node_pairs = [(k,j) for k in Range if X_allocated[i,k,j] > 0]\n",
    "      assert len(hub_node_pairs) == 1\n",
    "      hub_before_j =  hub_node_pairs[0][0]\n",
    "\n",
    "      # optimal path form i to j\n",
    "      path = []\n",
    "      if hub_before_j is i:\n",
    "        path = [i, j]\n",
    "      elif (i,hub_before_j) in node_hub_pairs:\n",
    "        path = [i, hub_before_j, j]\n",
    "      else:\n",
    "        for hub_after_i in hubs_after_i:\n",
    "          if (hub_after_i, hub_before_j) in hub_hub_pairs:\n",
    "            path = [i, hub_after_i, hub_before_j, j]\n",
    "      \n",
    "      # exclude repeating nodes\n",
    "      path = sorted(set(path), key=path.index)\n",
    "\n",
    "      paths[(i,j)] = path\n",
    "  return paths"
   ]
  },
  {
   "cell_type": "code",
   "execution_count": 5,
   "metadata": {
    "id": "QqrJN3I9XyGe"
   },
   "outputs": [],
   "source": [
    "# Methods for solution validation\n",
    "# For given paths calculate the overal cost\n",
    "def total_cost_from_paths(paths):\n",
    "  total_cost = 0\n",
    "  for start, end in paths:\n",
    "    path = paths[start, end]\n",
    "    for i in range(len(path)-1):\n",
    "      node = path[i]\n",
    "      next_node = path[i+1]\n",
    "      connection_cost = C[node, next_node]*W[start, end]\n",
    "      if node in Hubs and next_node in Hubs:\n",
    "        connection_cost *= alpha\n",
    "      total_cost += connection_cost\n",
    "  return total_cost\n",
    "\n",
    "# For given flow calculate the overal cost\n",
    "def total_cost_from_flow(flow):\n",
    "  r = np.multiply(flow, C, W)\n",
    "  hub_nodes = np.where(np.array(Hubs) > 0)[0]\n",
    "  for h in hub_nodes:\n",
    "    for k in hub_nodes:\n",
    "      r[h,k] *= alpha\n",
    "  return np.sum(r)"
   ]
  },
  {
   "attachments": {},
   "cell_type": "markdown",
   "metadata": {},
   "source": [
    "## Problem paramteres"
   ]
  },
  {
   "cell_type": "code",
   "execution_count": 6,
   "metadata": {
    "id": "YFz2Q4511uN5"
   },
   "outputs": [],
   "source": [
    "# C should be calculated from the points, but I had values from C in the paper\n",
    "points = [(0,0), (0,4), (1,5), (3,0), (5,1)]\n",
    "point_names = ['A', 'B','C', 'D', 'E']"
   ]
  },
  {
   "cell_type": "code",
   "execution_count": 7,
   "metadata": {
    "id": "Gx9uH7ru-4-m"
   },
   "outputs": [],
   "source": [
    "# number of nodes\n",
    "n = 5\n",
    "Range = range(n)"
   ]
  },
  {
   "cell_type": "code",
   "execution_count": 8,
   "metadata": {
    "id": "zzCLFU6QlejM"
   },
   "outputs": [],
   "source": [
    "alpha = 0.75\n",
    "p = 2"
   ]
  },
  {
   "cell_type": "code",
   "execution_count": 9,
   "metadata": {
    "id": "7jPS0knt-5BD"
   },
   "outputs": [
    {
     "data": {
      "text/plain": [
       "matrix([[0.        , 4.        , 5.09901951, 3.        , 5.09901951],\n",
       "        [4.        , 0.        , 1.41421356, 5.        , 5.83095189],\n",
       "        [5.09901951, 1.41421356, 0.        , 5.38516481, 5.65685425],\n",
       "        [3.        , 5.        , 5.38516481, 0.        , 2.23606798],\n",
       "        [5.09901951, 5.83095189, 5.65685425, 2.23606798, 0.        ]])"
      ]
     },
     "execution_count": 9,
     "metadata": {},
     "output_type": "execute_result"
    }
   ],
   "source": [
    "# distance\n",
    "C = np.matrix([[0, 4, sqrt(26), 3, sqrt(26)], \n",
    "               [4, 0, sqrt(2), 5, sqrt(34)],\n",
    "               [sqrt(26), sqrt(2), 0, sqrt(29), 4*sqrt(2)],\n",
    "               [3, 5, sqrt(29), 0, sqrt(5)],\n",
    "               [sqrt(26), sqrt(34), 4*sqrt(2), sqrt(5), 0]])\n",
    "C"
   ]
  },
  {
   "cell_type": "code",
   "execution_count": 10,
   "metadata": {
    "id": "iyhFOXyD-5Du"
   },
   "outputs": [
    {
     "data": {
      "text/plain": [
       "array([[0., 1., 1., 1., 1.],\n",
       "       [1., 0., 1., 1., 1.],\n",
       "       [1., 1., 0., 1., 1.],\n",
       "       [1., 1., 1., 0., 1.],\n",
       "       [1., 1., 1., 1., 0.]])"
      ]
     },
     "execution_count": 10,
     "metadata": {},
     "output_type": "execute_result"
    }
   ],
   "source": [
    "# demand\n",
    "W = np.ones((n,n))\n",
    "for i in range(n):\n",
    "  W[i,i] = 0 \n",
    "W"
   ]
  },
  {
   "attachments": {},
   "cell_type": "markdown",
   "metadata": {},
   "source": [
    "## Solve using CPLEX"
   ]
  },
  {
   "cell_type": "code",
   "execution_count": 11,
   "metadata": {},
   "outputs": [],
   "source": [
    "# create one model instance, with a name\n",
    "M = Model(name='UMApHMP')"
   ]
  },
  {
   "cell_type": "code",
   "execution_count": 12,
   "metadata": {
    "id": "5pVpw1Gyv55X"
   },
   "outputs": [],
   "source": [
    "X = {(i,l,j): M.continuous_var(name='X_{0}_{1}_{2}'.format(i,l,j)) for i in Range for l in Range for j in Range} # define X^{i}_{lj}"
   ]
  },
  {
   "cell_type": "code",
   "execution_count": 13,
   "metadata": {
    "id": "d22TxnUcv570"
   },
   "outputs": [],
   "source": [
    "Y = {(i,k,l): M.continuous_var(name='Y_{0}_{1}_{2}'.format(i,k,l)) for i in Range for k in Range for l in Range} # define Y^{i}_{kl}"
   ]
  },
  {
   "cell_type": "code",
   "execution_count": 14,
   "metadata": {
    "id": "CYePCruev5-k"
   },
   "outputs": [],
   "source": [
    "Z ={(i,k): M.continuous_var(name='Z_{0}_{1}'.format(i,k)) for i in Range for k in Range} # define Zik"
   ]
  },
  {
   "cell_type": "code",
   "execution_count": 15,
   "metadata": {
    "id": "OAVpo-iev6BN"
   },
   "outputs": [],
   "source": [
    "H = {k: M.binary_var(name='H_{0}'.format(k)) for k in Range} # define Hk"
   ]
  },
  {
   "cell_type": "code",
   "execution_count": 16,
   "metadata": {
    "colab": {
     "base_uri": "https://localhost:8080/"
    },
    "id": "XjMc__6zv6Dn",
    "outputId": "7107b8bc-f1d6-4cc2-eb29-53ed91a676b7"
   },
   "outputs": [
    {
     "data": {
      "text/plain": [
       "docplex.mp.LinearConstraint[](H_0+H_1+H_2+H_3+H_4,EQ,2)"
      ]
     },
     "execution_count": 16,
     "metadata": {},
     "output_type": "execute_result"
    }
   ],
   "source": [
    "M.add_constraint(M.sum(H[k] for k in Range) == p) # (2)"
   ]
  },
  {
   "cell_type": "code",
   "execution_count": 17,
   "metadata": {
    "id": "ZEOAlbyFypDh"
   },
   "outputs": [],
   "source": [
    "for i in Range:\n",
    "  M.add_constraint(M.sum(Z[i,k] for k in Range) == M.sum(W[i,j] for j in Range)) # (3)"
   ]
  },
  {
   "cell_type": "code",
   "execution_count": 18,
   "metadata": {
    "id": "2N2GV1AHypGg"
   },
   "outputs": [],
   "source": [
    "for i in Range:\n",
    "  for j in Range:\n",
    "    M.add_constraint(M.sum(X[i,l,j] for l in Range) == W[i,j]) # (4)"
   ]
  },
  {
   "cell_type": "code",
   "execution_count": 19,
   "metadata": {
    "id": "lF5Bo3stypMx"
   },
   "outputs": [],
   "source": [
    "for i in Range:\n",
    "  for k in Range:\n",
    "    M.add_constraint(M.sum(Y[i,k,l] for l in Range) + M.sum(X[i,k,j] for j in Range) - M.sum(Y[i,l,k] for l in Range) - Z[i,k] ==  0) # (5)"
   ]
  },
  {
   "cell_type": "code",
   "execution_count": 20,
   "metadata": {
    "id": "y0rt_7Cyz5na"
   },
   "outputs": [],
   "source": [
    "for i in Range:\n",
    "  for k in Range:\n",
    "    M.add_constraint(Z[i,k] <= H[k]*M.sum(W[i,j] for j in Range)) # (6)"
   ]
  },
  {
   "cell_type": "code",
   "execution_count": 21,
   "metadata": {
    "id": "V1G0Q4xNz5qK"
   },
   "outputs": [],
   "source": [
    "for l in Range:\n",
    "  for j in Range:\n",
    "    M.add_constraint(M.sum(X[i,l,j] for i in Range) <= H[l]*M.sum(W[i,j] for i in Range)) # (7)"
   ]
  },
  {
   "cell_type": "code",
   "execution_count": 22,
   "metadata": {
    "id": "5WTIvd_Kv6GJ"
   },
   "outputs": [],
   "source": [
    "# X, Y, Z >= 0 and Hk is binary are already met # (8)"
   ]
  },
  {
   "cell_type": "code",
   "execution_count": 23,
   "metadata": {
    "id": "OJibYd_Rv6K7"
   },
   "outputs": [],
   "source": [
    "M.minimize(M.sum((M.sum(C[i,k]*Z[i,k] for k in Range) + \n",
    "                  alpha*M.sum(M.sum(C[k,l]*Y[i,k,l] for l in Range) for k in Range) + \n",
    "                  M.sum(M.sum(C[l,j]*X[i,l,j] for j in Range) for l in Range)) for i in Range)) # (1)"
   ]
  },
  {
   "cell_type": "code",
   "execution_count": 24,
   "metadata": {
    "colab": {
     "base_uri": "https://localhost:8080/"
    },
    "id": "75DAUucKqgjR",
    "outputId": "6d0af708-bc2f-43c4-f6b6-47a5b8c3cbda"
   },
   "outputs": [
    {
     "name": "stdout",
     "output_type": "stream",
     "text": [
      "Model: UMApHMP\n",
      " - number of variables: 280\n",
      "   - binary=5, integer=0, continuous=275\n",
      " - number of constraints: 106\n",
      "   - linear=56, quadratic=50\n",
      " - parameters: defaults\n",
      " - objective: minimize\n",
      " - problem type is: MILP\n"
     ]
    }
   ],
   "source": [
    "M.print_information()"
   ]
  },
  {
   "cell_type": "code",
   "execution_count": 25,
   "metadata": {
    "id": "0w6C6RBNeTsA"
   },
   "outputs": [],
   "source": [
    "solution = M.solve()"
   ]
  },
  {
   "cell_type": "code",
   "execution_count": 26,
   "metadata": {
    "colab": {
     "base_uri": "https://localhost:8080/"
    },
    "id": "EY8smYSPeTxJ",
    "outputId": "b3221728-5f67-4caa-c9d4-d3222f10245b"
   },
   "outputs": [
    {
     "name": "stdout",
     "output_type": "stream",
     "text": [
      "solution for: UMApHMP\n",
      "objective: 86.582\n",
      "status: OPTIMAL_SOLUTION(2)\n",
      "X_0_1_1 = 1.000\n",
      "X_0_1_2 = 1.000\n",
      "X_0_3_3 = 1.000\n",
      "X_0_3_4 = 1.000\n",
      "X_1_1_0 = 1.000\n",
      "X_1_1_2 = 1.000\n",
      "X_1_1_4 = 1.000\n",
      "X_1_3_3 = 1.000\n",
      "X_2_1_0 = 1.000\n",
      "X_2_1_1 = 1.000\n",
      "X_2_1_4 = 1.000\n",
      "X_2_3_3 = 1.000\n",
      "X_3_1_1 = 1.000\n",
      "X_3_1_2 = 1.000\n",
      "X_3_3_0 = 1.000\n",
      "X_3_3_4 = 1.000\n",
      "X_4_1_1 = 1.000\n",
      "X_4_1_2 = 1.000\n",
      "X_4_3_0 = 1.000\n",
      "X_4_3_3 = 1.000\n",
      "Y_1_1_3 = 1.000\n",
      "Y_2_1_3 = 1.000\n",
      "Y_3_3_1 = 2.000\n",
      "Z_0_1 = 2.000\n",
      "Z_0_3 = 2.000\n",
      "Z_1_1 = 4.000\n",
      "Z_2_1 = 4.000\n",
      "Z_3_3 = 4.000\n",
      "Z_4_1 = 2.000\n",
      "Z_4_3 = 2.000\n",
      "H_1 = 1\n",
      "H_3 = 1\n"
     ]
    }
   ],
   "source": [
    "if solution:\n",
    "  solution.display()\n",
    "else:\n",
    "  print(\"Problem is unfeasible or CPLEX failed to find the solution!\")"
   ]
  },
  {
   "attachments": {},
   "cell_type": "markdown",
   "metadata": {
    "id": "1RaoAOlH5Jq7"
   },
   "source": [
    "## Ilustrate the solution"
   ]
  },
  {
   "cell_type": "code",
   "execution_count": 27,
   "metadata": {
    "id": "NKg4xDOS9pa7"
   },
   "outputs": [],
   "source": [
    "Hubs = [solution.get_var_value(H[i]) for i in Range]\n",
    "Z_allocated = {(i,k): solution.get_var_value(Z[i,k]) for i in Range for k in Range}\n",
    "X_allocated = {(i,l,j): solution.get_var_value(X[i,l,j]) for i in Range for l in Range for j in Range}\n",
    "Y_allocated = {(i,k,l): solution.get_var_value(Y[i,k,l]) for i in Range for k in Range for l in Range}"
   ]
  },
  {
   "cell_type": "code",
   "execution_count": 28,
   "metadata": {
    "colab": {
     "base_uri": "https://localhost:8080/"
    },
    "id": "mOHJO083hlor",
    "outputId": "14506255-73a2-490a-d24b-3a7b9af59b40"
   },
   "outputs": [
    {
     "data": {
      "text/plain": [
       "86.58178798836512"
      ]
     },
     "execution_count": 28,
     "metadata": {},
     "output_type": "execute_result"
    }
   ],
   "source": [
    "min_overall_cost = solution.objective_value\n",
    "min_overall_cost"
   ]
  },
  {
   "cell_type": "code",
   "execution_count": 29,
   "metadata": {
    "colab": {
     "base_uri": "https://localhost:8080/"
    },
    "id": "TpjModWpFSrv",
    "outputId": "db530ef3-8cc7-4ccc-cc34-424431d8d1bb"
   },
   "outputs": [
    {
     "data": {
      "text/plain": [
       "array([[0., 2., 0., 2., 0.],\n",
       "       [2., 8., 4., 2., 2.],\n",
       "       [0., 4., 0., 0., 0.],\n",
       "       [2., 2., 0., 8., 2.],\n",
       "       [0., 2., 0., 2., 0.]])"
      ]
     },
     "execution_count": 29,
     "metadata": {},
     "output_type": "execute_result"
    }
   ],
   "source": [
    "flow = get_flow(X_allocated, Y_allocated, Z_allocated)\n",
    "flow"
   ]
  },
  {
   "cell_type": "code",
   "execution_count": 30,
   "metadata": {
    "colab": {
     "base_uri": "https://localhost:8080/",
     "height": 592
    },
    "id": "QuN4aLI4-LPD",
    "outputId": "fb3129dd-bf3b-4cd1-be33-c828190e23b4"
   },
   "outputs": [
    {
     "data": {
      "image/png": "[encoded data removed]",
      "text/plain": [
       "<Figure size 500x500 with 1 Axes>"
      ]
     },
     "metadata": {},
     "output_type": "display_data"
    }
   ],
   "source": [
    "fig, ax = plt.subplots(1, figsize=(5, 5))\n",
    "plot_solution(ax, points, point_names, Hubs, flow)\n",
    "plt.show()"
   ]
  },
  {
   "cell_type": "code",
   "execution_count": 31,
   "metadata": {
    "colab": {
     "base_uri": "https://localhost:8080/"
    },
    "id": "c6DDIuy09e1G",
    "outputId": "e36948a7-74ac-4fa4-e9ca-5bf7fb2a7c40"
   },
   "outputs": [
    {
     "data": {
      "text/plain": [
       "{(0, 1): [0, 1],\n",
       " (0, 2): [0, 1, 2],\n",
       " (0, 3): [0, 3],\n",
       " (0, 4): [0, 3, 4],\n",
       " (1, 0): [1, 0],\n",
       " (1, 2): [1, 2],\n",
       " (1, 3): [1, 3],\n",
       " (1, 4): [1, 4],\n",
       " (2, 0): [2, 1, 0],\n",
       " (2, 1): [2, 1],\n",
       " (2, 3): [2, 1, 3],\n",
       " (2, 4): [2, 1, 4],\n",
       " (3, 0): [3, 0],\n",
       " (3, 1): [3, 1],\n",
       " (3, 2): [3, 1, 2],\n",
       " (3, 4): [3, 4],\n",
       " (4, 0): [4, 3, 0],\n",
       " (4, 1): [4, 1],\n",
       " (4, 2): [4, 1, 2],\n",
       " (4, 3): [4, 3]}"
      ]
     },
     "execution_count": 31,
     "metadata": {},
     "output_type": "execute_result"
    }
   ],
   "source": [
    "paths = get_paths(X_allocated, Y_allocated, Z_allocated)\n",
    "paths"
   ]
  },
  {
   "attachments": {},
   "cell_type": "markdown",
   "metadata": {
    "id": "BrLfev-TXhrZ"
   },
   "source": [
    "## Validate the solution"
   ]
  },
  {
   "cell_type": "code",
   "execution_count": 32,
   "metadata": {
    "colab": {
     "base_uri": "https://localhost:8080/"
    },
    "id": "D0Ua_lgcvGv0",
    "outputId": "e0472d4c-4712-4367-9a8f-554781eeb287"
   },
   "outputs": [
    {
     "data": {
      "text/plain": [
       "87.5817879883651"
      ]
     },
     "execution_count": 32,
     "metadata": {},
     "output_type": "execute_result"
    }
   ],
   "source": [
    "total_cost_from_paths(paths)"
   ]
  },
  {
   "cell_type": "code",
   "execution_count": 33,
   "metadata": {
    "colab": {
     "base_uri": "https://localhost:8080/"
    },
    "id": "wLkMRm-MchMt",
    "outputId": "79dc1d4a-d9c9-492a-f5f2-ae166cac0d7c"
   },
   "outputs": [
    {
     "data": {
      "text/plain": [
       "86.58178798836511"
      ]
     },
     "execution_count": 33,
     "metadata": {},
     "output_type": "execute_result"
    }
   ],
   "source": [
    "total_cost_from_flow(flow)"
   ]
  },
  {
   "attachments": {},
   "cell_type": "markdown",
   "metadata": {
    "id": "PEH8lO43jw9p"
   },
   "source": [
    "`total_cost_from_flow(flow)` gives exactly the same value as the algorithm. Looks like solution is valid.\n",
    "\n",
    "Also, looks like I didn't extract paths well. Flow is easier to calculate and so more reliable."
   ]
  },
  {
   "attachments": {},
   "cell_type": "markdown",
   "metadata": {
    "id": "9u8XOaht2Y_X"
   },
   "source": [
    "## Let's enforce  C i D to be the hubs"
   ]
  },
  {
   "cell_type": "code",
   "execution_count": 34,
   "metadata": {
    "colab": {
     "base_uri": "https://localhost:8080/"
    },
    "id": "jCCbHpdJwVmh",
    "outputId": "38d04891-6eca-4615-e98d-77db9734342b"
   },
   "outputs": [
    {
     "data": {
      "text/plain": [
       "docplex.mp.LinearConstraint[](H_3,EQ,1)"
      ]
     },
     "execution_count": 34,
     "metadata": {},
     "output_type": "execute_result"
    }
   ],
   "source": [
    "M.add_constraint(H[2] == 1)\n",
    "M.add_constraint(H[3] == 1)"
   ]
  },
  {
   "cell_type": "code",
   "execution_count": 35,
   "metadata": {
    "id": "xZJ4F-3b2o7p"
   },
   "outputs": [],
   "source": [
    "solution = M.solve()"
   ]
  },
  {
   "cell_type": "code",
   "execution_count": 36,
   "metadata": {
    "id": "mRoM6O3J277m"
   },
   "outputs": [],
   "source": [
    "Hubs = [solution.get_var_value(H[i]) for i in Range]\n",
    "Z_allocated = {(i,k): solution.get_var_value(Z[i,k]) for i in Range for k in Range}\n",
    "X_allocated = {(i,l,j): solution.get_var_value(X[i,l,j]) for i in Range for l in Range for j in Range}\n",
    "Y_allocated = {(i,k,l): solution.get_var_value(Y[i,k,l]) for i in Range for k in Range for l in Range}"
   ]
  },
  {
   "cell_type": "code",
   "execution_count": 37,
   "metadata": {
    "colab": {
     "base_uri": "https://localhost:8080/"
    },
    "id": "fufibq6J2_Ut",
    "outputId": "67e1a37d-541e-4fb7-fa52-5c61387311d7"
   },
   "outputs": [
    {
     "data": {
      "text/plain": [
       "90.53079554728012"
      ]
     },
     "execution_count": 37,
     "metadata": {},
     "output_type": "execute_result"
    }
   ],
   "source": [
    "min_overall_cost = solution.objective_value\n",
    "min_overall_cost"
   ]
  },
  {
   "cell_type": "code",
   "execution_count": 38,
   "metadata": {
    "id": "cIgr7PSG3DII"
   },
   "outputs": [],
   "source": [
    "flow = get_flow(X_allocated, Y_allocated, Z_allocated)"
   ]
  },
  {
   "cell_type": "code",
   "execution_count": 39,
   "metadata": {
    "colab": {
     "base_uri": "https://localhost:8080/",
     "height": 592
    },
    "id": "L9dpccio3Dt7",
    "outputId": "5eae6218-f6eb-462d-e0bc-eb6c47eac8aa"
   },
   "outputs": [
    {
     "data": {
      "image/png": "[encoded data removed]",
      "text/plain": [
       "<Figure size 500x500 with 1 Axes>"
      ]
     },
     "metadata": {},
     "output_type": "display_data"
    }
   ],
   "source": [
    "fig, ax = plt.subplots(1, figsize=(5, 5))\n",
    "plot_solution(ax, points, point_names, Hubs, flow)\n",
    "plt.show()"
   ]
  },
  {
   "cell_type": "code",
   "execution_count": 40,
   "metadata": {
    "colab": {
     "base_uri": "https://localhost:8080/"
    },
    "id": "346-f-PZ3HKF",
    "outputId": "e11627c0-1ab9-4f3f-a028-f94acaf83c09"
   },
   "outputs": [
    {
     "data": {
      "text/plain": [
       "{(0, 1): [0, 2, 1],\n",
       " (0, 2): [0, 2],\n",
       " (0, 3): [0, 3],\n",
       " (0, 4): [0, 3, 4],\n",
       " (1, 0): [1, 2, 0],\n",
       " (1, 2): [1, 2],\n",
       " (1, 3): [1, 3],\n",
       " (1, 4): [1, 2, 4],\n",
       " (2, 0): [2, 0],\n",
       " (2, 1): [2, 1],\n",
       " (2, 3): [2, 3],\n",
       " (2, 4): [2, 4],\n",
       " (3, 0): [3, 0],\n",
       " (3, 1): [3, 1],\n",
       " (3, 2): [3, 2],\n",
       " (3, 4): [3, 4],\n",
       " (4, 0): [4, 3, 0],\n",
       " (4, 1): [4, 2, 1],\n",
       " (4, 2): [4, 2],\n",
       " (4, 3): [4, 3]}"
      ]
     },
     "execution_count": 40,
     "metadata": {},
     "output_type": "execute_result"
    }
   ],
   "source": [
    "paths = get_paths(X_allocated, Y_allocated, Z_allocated)\n",
    "paths"
   ]
  },
  {
   "cell_type": "code",
   "execution_count": 41,
   "metadata": {
    "colab": {
     "base_uri": "https://localhost:8080/"
    },
    "id": "uYWmwkl0UthF",
    "outputId": "5fc7cd26-6c93-415e-bc49-c3c6453ceaaa"
   },
   "outputs": [
    {
     "data": {
      "text/plain": [
       "416.1359542401605"
      ]
     },
     "execution_count": 41,
     "metadata": {},
     "output_type": "execute_result"
    }
   ],
   "source": [
    "total_cost_from_paths(paths)"
   ]
  },
  {
   "cell_type": "code",
   "execution_count": 42,
   "metadata": {
    "colab": {
     "base_uri": "https://localhost:8080/"
    },
    "id": "53nQDu5mckqS",
    "outputId": "58e169b5-57cd-4d00-de0f-7edf3969363f"
   },
   "outputs": [
    {
     "data": {
      "text/plain": [
       "90.53079554728015"
      ]
     },
     "execution_count": 42,
     "metadata": {},
     "output_type": "execute_result"
    }
   ],
   "source": [
    "total_cost_from_flow(flow)"
   ]
  },
  {
   "cell_type": "code",
   "execution_count": null,
   "metadata": {
    "id": "W2_gPyfTbO3p"
   },
   "outputs": [],
   "source": []
  },
  {
   "cell_type": "code",
   "execution_count": null,
   "metadata": {
    "id": "OkbYnAhcbMVW"
   },
   "outputs": [],
   "source": []
  }
 ],
 "metadata": {
  "colab": {
   "provenance": []
  },
  "kernelspec": {
   "display_name": "Python 3",
   "language": "python",
   "name": "python3"
  },
  "language_info": {
   "codemirror_mode": {
    "name": "ipython",
    "version": 3
   },
   "file_extension": ".py",
   "mimetype": "text/x-python",
   "name": "python",
   "nbconvert_exporter": "python",
   "pygments_lexer": "ipython3",
   "version": "3.10.6"
  }
 },
 "nbformat": 4,
 "nbformat_minor": 1
}
