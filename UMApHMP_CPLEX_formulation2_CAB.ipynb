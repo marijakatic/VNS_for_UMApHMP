{
 "cells": [
  {
   "cell_type": "code",
   "execution_count": 1,
   "metadata": {},
   "outputs": [],
   "source": [
    "import scipy\n",
    "from scipy.spatial import distance_matrix\n",
    "import numpy as np\n",
    "import string\n",
    "\n",
    "from read_dataset import read_AP\n",
    "from read_dataset import read_CAB\n",
    "from plot_solution import plot_solution\n",
    "import build_model"
   ]
  },
  {
   "cell_type": "code",
   "execution_count": 2,
   "metadata": {},
   "outputs": [],
   "source": [
    "N, p, alpha, delta, ksi, C, W = read_CAB(\"./data/CAB_instances_v1/CAB25.3.1.txt\")"
   ]
  },
  {
   "cell_type": "code",
   "execution_count": 3,
   "metadata": {},
   "outputs": [
    {
     "name": "stdout",
     "output_type": "stream",
     "text": [
      "[2023-05-21 20:50:11.735389] Created model M\n",
      "[2023-05-21 20:50:12.132247] Defined variable X\n",
      "[2023-05-21 20:50:12.482331] Defined variable Y\n",
      "[2023-05-21 20:50:12.496853] Defined variable Z\n",
      "[2023-05-21 20:50:12.497556] Defined variable H\n",
      "[2023-05-21 20:50:12.499745] Defined constraint (2)\n",
      "[2023-05-21 20:50:12.503425] Defined constraint (3)\n",
      "[2023-05-21 20:50:12.566365] Defined constraint (4)\n",
      "[2023-05-21 20:50:12.711929] Defined constraint (5)\n",
      "[2023-05-21 20:50:12.803128] Defined constraint (6)\n",
      "[2023-05-21 20:50:12.930328] Defined constraint (7)\n",
      "[2023-05-21 20:50:13.167780] Defined constraint (1)\n",
      "Version identifier: 22.1.1.0 | 2022-11-28 | 9160aff4d\n",
      "CPXPARAM_Read_DataCheck                          1\n",
      "Tried aggregator 1 time.\n",
      "MIP Presolve eliminated 25 rows and 1250 columns.\n",
      "Reduced MIP has 2501 rows, 30650 columns, and 78150 nonzeros.\n",
      "Reduced MIP has 25 binaries, 0 generals, 0 SOSs, and 0 indicators.\n",
      "Presolve time = 0.04 sec. (22.76 ticks)\n",
      "Found incumbent of value 2.4649780e+10 after 0.09 sec. (53.98 ticks)\n",
      "Tried aggregator 1 time.\n",
      "Detecting symmetries...\n",
      "Reduced MIP has 2501 rows, 30650 columns, and 78150 nonzeros.\n",
      "Reduced MIP has 25 binaries, 0 generals, 0 SOSs, and 0 indicators.\n",
      "Presolve time = 0.05 sec. (28.52 ticks)\n",
      "Probing time = 0.01 sec. (1.27 ticks)\n",
      "MIP emphasis: balance optimality and feasibility.\n",
      "MIP search method: dynamic search.\n",
      "Parallel mode: deterministic, using up to 4 threads.\n",
      "Root relaxation solution time = 0.48 sec. (476.42 ticks)\n",
      "\n",
      "        Nodes                                         Cuts/\n",
      "   Node  Left     Objective  IInf  Best Integer    Best Bound    ItCnt     Gap\n",
      "\n",
      "*     0+    0                       2.46498e+10        0.0000           100.00%\n",
      "*     0+    0                       1.10383e+10        0.0000           100.00%\n",
      "      0     0   8.01477e+09    21   1.10383e+10   8.01477e+09     4636   27.39%\n",
      "*     0+    0                       9.10155e+09   8.01477e+09            11.94%\n",
      "      0     0   8.25409e+09    23   9.10155e+09     Cuts: 725     7847    9.31%\n",
      "*     0+    0                       9.08758e+09   8.25409e+09             9.17%\n",
      "      0     0   8.48835e+09    24   9.08758e+09     Cuts: 725    11774    6.59%\n",
      "      0     0   8.62677e+09    24   9.08758e+09     Cuts: 725    15670    5.07%\n",
      "      0     0   8.74458e+09    25   9.08758e+09     Cuts: 725    21103    3.77%\n",
      "      0     0   8.83433e+09    25   9.08758e+09     Cuts: 725    27468    2.79%\n",
      "Detecting symmetries...\n",
      "      0     0   8.90621e+09    25   9.08758e+09     Cuts: 725    34237    2.00%\n",
      "      0     0   8.97440e+09    25   9.08758e+09     Cuts: 725    40012    1.25%\n",
      "      0     0   9.01076e+09    24   9.08758e+09     Cuts: 725    45348    0.85%\n",
      "*     0+    0                       9.07894e+09   9.01076e+09             0.75%\n",
      "      0     0   9.03668e+09    23   9.07894e+09     Cuts: 725    49645    0.47%\n",
      "*     0+    0                       9.07894e+09   9.03668e+09             0.47%\n",
      "      0     0   9.05242e+09    20   9.07894e+09     Cuts: 725    54328    0.29%\n",
      "*     0+    0                       9.07071e+09   9.05242e+09             0.20%\n",
      "*     0+    0                       9.07071e+09   9.05242e+09             0.20%\n",
      "      0     0        cutoff         9.07071e+09   9.07071e+09    59412    0.00%\n",
      "Elapsed time = 45.99 sec. (31480.60 ticks, tree = 0.01 MB, solutions = 8)\n",
      "\n",
      "Implied bound cuts applied:  2910\n",
      "Flow cuts applied:  557\n",
      "Mixed integer rounding cuts applied:  365\n",
      "Multi commodity flow cuts applied:  1\n",
      "Lift and project cuts applied:  2\n",
      "\n",
      "Root node processing (before b&c):\n",
      "  Real time             =   46.00 sec. (31483.55 ticks)\n",
      "Parallel b&c, 4 threads:\n",
      "  Real time             =    0.00 sec. (0.00 ticks)\n",
      "  Sync time (average)   =    0.00 sec.\n",
      "  Wait time (average)   =    0.00 sec.\n",
      "                          ------------\n",
      "Total (root+branch&cut) =   46.00 sec. (31483.55 ticks)\n"
     ]
    }
   ],
   "source": [
    "M, X, Y, Z, H = build_model.UMApHMP_f2(N, p, alpha, delta, ksi, C, W)\n",
    "solution = M.solve(log_output=True)\n",
    "Hubs = [solution.get_var_value(H[i]) for i in range(N)]\n",
    "cost = round(solution.objective_value, 7)"
   ]
  },
  {
   "cell_type": "code",
   "execution_count": 4,
   "metadata": {},
   "outputs": [
    {
     "data": {
      "text/plain": [
       "9070712365.2327"
      ]
     },
     "execution_count": 4,
     "metadata": {},
     "output_type": "execute_result"
    }
   ],
   "source": [
    "cost"
   ]
  }
 ],
 "metadata": {
  "kernelspec": {
   "display_name": "Python 3",
   "language": "python",
   "name": "python3"
  },
  "language_info": {
   "codemirror_mode": {
    "name": "ipython",
    "version": 3
   },
   "file_extension": ".py",
   "mimetype": "text/x-python",
   "name": "python",
   "nbconvert_exporter": "python",
   "pygments_lexer": "ipython3",
   "version": "3.10.6"
  },
  "orig_nbformat": 4
 },
 "nbformat": 4,
 "nbformat_minor": 2
}
