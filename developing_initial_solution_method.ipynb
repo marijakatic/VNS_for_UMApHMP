{
 "cells": [
  {
   "cell_type": "code",
   "execution_count": 1,
   "metadata": {},
   "outputs": [],
   "source": [
    "import sys\n",
    "from os import listdir\n",
    "from os.path import isfile, join\n",
    "import string\n",
    "\n",
    "import numpy as np\n",
    "from plot_solution import plot_solution\n",
    "import matplotlib.pyplot as plt \n",
    "\n",
    "from ioutils import parse_input\n",
    "from utils import get_distance_matrix\n",
    "from utils import get_discount_matrix\n",
    "from utils import get_nodes\n",
    "from utils import allocate_paths\n",
    "from utils import get_flow_from_paths\n",
    "# from utils import get_total_cost\n",
    "# import cplex_utils\n",
    "# import graph_utils as graph_utils"
   ]
  },
  {
   "cell_type": "code",
   "execution_count": 2,
   "metadata": {},
   "outputs": [],
   "source": [
    "DATASET = 'AP'\n",
    "INPUT_DIRECTORY = \"./data/AP/\""
   ]
  },
  {
   "cell_type": "code",
   "execution_count": 3,
   "metadata": {},
   "outputs": [
    {
     "name": "stdout",
     "output_type": "stream",
     "text": [
      "['./data/AP/10.3', './data/AP/20.3', './data/AP/50.3', './data/AP/10.2', './data/AP/ReadMe-UMApHMP.txt', './data/AP/5.3', './data/AP/25.3', './data/AP/10.5', './data/AP/100.3', './data/AP/200.3', './data/AP/10.4', './data/AP/40.3', './data/AP/Solutions-UMApHMP.txt']\n",
      "./data/AP/10.3\n"
     ]
    }
   ],
   "source": [
    "files = [join(INPUT_DIRECTORY, f) for f in listdir(INPUT_DIRECTORY) if isfile(join(INPUT_DIRECTORY, f))]\n",
    "print(files)\n",
    "file = files[0]\n",
    "print(file)"
   ]
  },
  {
   "cell_type": "code",
   "execution_count": 4,
   "metadata": {},
   "outputs": [],
   "source": [
    "n, p, alpha, delta, ksi, nodes_coordinates, demand = parse_input(file, DATASET)\n",
    "distances = get_distance_matrix(nodes_coordinates)"
   ]
  },
  {
   "cell_type": "code",
   "execution_count": 5,
   "metadata": {},
   "outputs": [
    {
     "data": {
      "text/plain": [
       "array([[    0.        , 19961.0558033 , 15695.19654311, 23247.4518241 ,\n",
       "        23046.6221365 , 30371.32291308, 31577.9646792 , 32743.32891303,\n",
       "        35819.16331583, 36032.73859423],\n",
       "       [19961.0558033 ,     0.        , 20191.32685916, 12595.39422727,\n",
       "        24553.87569785, 18813.21657324, 29874.33691799, 25425.40769452,\n",
       "        38247.79779951, 30557.93748002],\n",
       "       [15695.19654311, 20191.32685916,     0.        , 13742.83338584,\n",
       "         7366.85489253, 18671.4212356 , 15890.65414369, 18296.57531546,\n",
       "        20875.26188707, 20739.35072549],\n",
       "       [23247.4518241 , 12595.39422727, 13742.83338584,     0.        ,\n",
       "        14466.61392728,  7400.71474226, 17776.67905589, 12874.75520832,\n",
       "        26799.93610028, 17962.84829659],\n",
       "       [23046.6221365 , 24553.87569785,  7366.85489253, 14466.61392728,\n",
       "            0.        , 16356.96828587,  8627.19040293, 13047.37025935,\n",
       "        14115.80625272, 14158.79629089],\n",
       "       [30371.32291308, 18813.21657324, 18671.4212356 ,  7400.71474226,\n",
       "        16356.96828587,     0.        , 15746.21631167,  7942.62344163,\n",
       "        25355.50909747, 13245.80206028],\n",
       "       [31577.9646792 , 29874.33691799, 15890.65414369, 17776.67905589,\n",
       "         8627.19040293, 15746.21631167,     0.        ,  8784.11518391,\n",
       "         9609.39881325,  6701.52762194],\n",
       "       [32743.32891303, 25425.40769452, 18296.57531546, 12874.75520832,\n",
       "        13047.37025935,  7942.62344163,  8784.11518391,     0.        ,\n",
       "        18158.26490217,  5353.36366478],\n",
       "       [35819.16331583, 38247.79779951, 20875.26188707, 26799.93610028,\n",
       "        14115.80625272, 25355.50909747,  9609.39881325, 18158.26490217,\n",
       "            0.        , 14475.31178479],\n",
       "       [36032.73859423, 30557.93748002, 20739.35072549, 17962.84829659,\n",
       "        14158.79629089, 13245.80206028,  6701.52762194,  5353.36366478,\n",
       "        14475.31178479,     0.        ]])"
      ]
     },
     "execution_count": 5,
     "metadata": {},
     "output_type": "execute_result"
    }
   ],
   "source": [
    "distances"
   ]
  },
  {
   "cell_type": "code",
   "execution_count": 6,
   "metadata": {},
   "outputs": [],
   "source": [
    "def get_initial_solution(n, p, distances):\n",
    "    \"\"\"Get initial solution method for vns.\n",
    "\n",
    "    Paramteres: \n",
    "    n (int): Number of nodes\n",
    "    p (int): Number of hubs\n",
    "    distances (matrix): distance matrix for the graph\n",
    "\n",
    "    Returns:\n",
    "    (list): hubs\n",
    "\n",
    "    Notes:\n",
    "    This initialization method is taken from the paper\n",
    "    El-Ghazali Talbi, Raca Todosijevic, 'The robust uncapacitated multiple allocation p-hub median problem' \n",
    "\n",
    "    \"A solution built in a greedy manner. \n",
    "    Namely, the initial p hubs are chosen as those whose maximum transportation cost\n",
    "    to any other node are the p smallest. More precisely, \n",
    "    let g(p) be the maximum transportation cost of a node h to any other node, \n",
    "    i.e. g(h) = max{C_ih|i from N, i != h}, h from N.\n",
    "    Then, the nodes with the p smallest values of function g are taken as the initial p hubs.\"\n",
    "    \"\"\"\n",
    "    nodes = get_nodes(n)\n",
    "    longest_edge_from_node = {}\n",
    "    for node in nodes:\n",
    "        longest_edge_from_node[node] = max(distances[node])\n",
    "    hubs = sorted(longest_edge_from_node, key=longest_edge_from_node.get)[:p]\n",
    "    return hubs"
   ]
  },
  {
   "cell_type": "code",
   "execution_count": 7,
   "metadata": {},
   "outputs": [
    {
     "data": {
      "text/plain": [
       "[2, 4, 3]"
      ]
     },
     "execution_count": 7,
     "metadata": {},
     "output_type": "execute_result"
    }
   ],
   "source": [
    "hubs = get_initial_solution(n, p, distances)\n",
    "hubs"
   ]
  },
  {
   "cell_type": "code",
   "execution_count": 8,
   "metadata": {},
   "outputs": [
    {
     "data": {
      "text/plain": [
       "array([0., 0., 1., 1., 1., 0., 0., 0., 0., 0.])"
      ]
     },
     "execution_count": 8,
     "metadata": {},
     "output_type": "execute_result"
    }
   ],
   "source": [
    "hubs_bit_map = np.zeros(n)\n",
    "hubs_bit_map[hubs] = 1\n",
    "hubs_bit_map"
   ]
  },
  {
   "cell_type": "code",
   "execution_count": 9,
   "metadata": {},
   "outputs": [],
   "source": [
    "discounts = get_discount_matrix(n, hubs, alpha, delta, ksi)\n",
    "paths = allocate_paths(n, hubs, distances, discounts)"
   ]
  },
  {
   "cell_type": "code",
   "execution_count": 10,
   "metadata": {},
   "outputs": [
    {
     "data": {
      "text/plain": [
       "[[0, 2, 3, 1],\n",
       " [0, 2],\n",
       " [0, 2, 3],\n",
       " [0, 2, 4],\n",
       " [0, 2, 3, 5],\n",
       " [0, 2, 4, 6],\n",
       " [0, 2, 4, 7],\n",
       " [0, 2, 4, 8],\n",
       " [0, 2, 4, 9],\n",
       " [1, 3, 2, 0],\n",
       " [1, 3, 2],\n",
       " [1, 3],\n",
       " [1, 3, 4],\n",
       " [1, 3, 5],\n",
       " [1, 3, 4, 6],\n",
       " [1, 3, 7],\n",
       " [1, 3, 4, 8],\n",
       " [1, 3, 9],\n",
       " [2, 0],\n",
       " [2, 3, 1],\n",
       " [2, 3],\n",
       " [2, 4],\n",
       " [2, 3, 5],\n",
       " [2, 4, 6],\n",
       " [2, 4, 7],\n",
       " [2, 4, 8],\n",
       " [2, 4, 9],\n",
       " [3, 2, 0],\n",
       " [3, 1],\n",
       " [3, 2],\n",
       " [3, 4],\n",
       " [3, 5],\n",
       " [3, 4, 6],\n",
       " [3, 7],\n",
       " [3, 4, 8],\n",
       " [3, 9],\n",
       " [4, 2, 0],\n",
       " [4, 3, 1],\n",
       " [4, 2],\n",
       " [4, 3],\n",
       " [4, 3, 5],\n",
       " [4, 6],\n",
       " [4, 7],\n",
       " [4, 8],\n",
       " [4, 9],\n",
       " [5, 3, 2, 0],\n",
       " [5, 3, 1],\n",
       " [5, 3, 2],\n",
       " [5, 3],\n",
       " [5, 3, 4],\n",
       " [5, 3, 4, 6],\n",
       " [5, 3, 7],\n",
       " [5, 3, 4, 8],\n",
       " [5, 3, 9],\n",
       " [6, 4, 2, 0],\n",
       " [6, 4, 3, 1],\n",
       " [6, 4, 2],\n",
       " [6, 4, 3],\n",
       " [6, 4],\n",
       " [6, 4, 3, 5],\n",
       " [6, 4, 7],\n",
       " [6, 4, 8],\n",
       " [6, 4, 9],\n",
       " [7, 4, 2, 0],\n",
       " [7, 3, 1],\n",
       " [7, 4, 2],\n",
       " [7, 3],\n",
       " [7, 4],\n",
       " [7, 3, 5],\n",
       " [7, 4, 6],\n",
       " [7, 4, 8],\n",
       " [7, 4, 9],\n",
       " [8, 4, 2, 0],\n",
       " [8, 4, 3, 1],\n",
       " [8, 4, 2],\n",
       " [8, 4, 3],\n",
       " [8, 4],\n",
       " [8, 4, 3, 5],\n",
       " [8, 4, 6],\n",
       " [8, 4, 7],\n",
       " [8, 4, 9],\n",
       " [9, 4, 2, 0],\n",
       " [9, 4, 3, 1],\n",
       " [9, 4, 2],\n",
       " [9, 4, 3],\n",
       " [9, 4],\n",
       " [9, 4, 3, 5],\n",
       " [9, 4, 6],\n",
       " [9, 4, 7],\n",
       " [9, 4, 8],\n",
       " [0, 2, 0],\n",
       " [1, 3, 1],\n",
       " [5, 3, 5],\n",
       " [6, 4, 6],\n",
       " [7, 3, 7],\n",
       " [8, 4, 8],\n",
       " [9, 4, 9]]"
      ]
     },
     "execution_count": 10,
     "metadata": {},
     "output_type": "execute_result"
    }
   ],
   "source": [
    "paths"
   ]
  },
  {
   "cell_type": "code",
   "execution_count": 11,
   "metadata": {},
   "outputs": [
    {
     "data": {
      "text/plain": [
       "array([[   0.     ,    0.     ,  333.03306,    0.     ,    0.     ,\n",
       "           0.     ,    0.     ,    0.     ,    0.     ,    0.     ],\n",
       "       [   0.     ,    0.     ,    0.     ,  244.85554,    0.     ,\n",
       "           0.     ,    0.     ,    0.     ,    0.     ,    0.     ],\n",
       "       [ 365.91275,    0.     ,    0.     ,  156.15134,  286.58795,\n",
       "           0.     ,    0.     ,    0.     ,    0.     ,    0.     ],\n",
       "       [   0.     ,  347.5149 ,  110.65728,    0.     ,  194.71717,\n",
       "         293.77677,    0.     ,  155.33335,    0.     ,   53.33411],\n",
       "       [   0.     ,    0.     ,  354.99869,  399.4421 ,    0.     ,\n",
       "           0.     ,  978.83344,  222.14767,  304.28237,  341.13822],\n",
       "       [   0.     ,    0.     ,    0.     ,  173.0112 ,    0.     ,\n",
       "           0.     ,    0.     ,    0.     ,    0.     ,    0.     ],\n",
       "       [   0.     ,    0.     ,    0.     ,    0.     , 1117.30303,\n",
       "           0.     ,    0.     ,    0.     ,    0.     ,    0.     ],\n",
       "       [   0.     ,    0.     ,    0.     ,  237.67393,  413.57852,\n",
       "           0.     ,    0.     ,    0.     ,    0.     ,    0.     ],\n",
       "       [   0.     ,    0.     ,    0.     ,    0.     ,  206.70864,\n",
       "           0.     ,    0.     ,    0.     ,    0.     ,    0.     ],\n",
       "       [   0.     ,    0.     ,    0.     ,    0.     ,  406.77398,\n",
       "           0.     ,    0.     ,    0.     ,    0.     ,    0.     ]])"
      ]
     },
     "execution_count": 11,
     "metadata": {},
     "output_type": "execute_result"
    }
   ],
   "source": [
    "flow = get_flow_from_paths(n, paths, demand)\n",
    "flow"
   ]
  },
  {
   "cell_type": "code",
   "execution_count": 12,
   "metadata": {},
   "outputs": [
    {
     "data": {
      "image/png": "[encoded data removed]",
      "text/plain": [
       "<Figure size 600x600 with 1 Axes>"
      ]
     },
     "metadata": {},
     "output_type": "display_data"
    }
   ],
   "source": [
    "import matplotlib.pyplot as plt \n",
    "\n",
    "fig, ax = plt.subplots(1, figsize=(6, 6))\n",
    "alphabet = list(string.ascii_uppercase)\n",
    "numbers = list(range(n))\n",
    "plot_solution(ax, nodes_coordinates, numbers, hubs_bit_map, flow, plot_all_lines=False, verbose=0)\n",
    "plt.show()"
   ]
  }
 ],
 "metadata": {
  "kernelspec": {
   "display_name": "Python 3",
   "language": "python",
   "name": "python3"
  },
  "language_info": {
   "codemirror_mode": {
    "name": "ipython",
    "version": 3
   },
   "file_extension": ".py",
   "mimetype": "text/x-python",
   "name": "python",
   "nbconvert_exporter": "python",
   "pygments_lexer": "ipython3",
   "version": "3.10.6"
  },
  "orig_nbformat": 4
 },
 "nbformat": 4,
 "nbformat_minor": 2
}
