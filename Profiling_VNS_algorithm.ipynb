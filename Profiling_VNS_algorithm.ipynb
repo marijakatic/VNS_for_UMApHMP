{
 "cells": [
  {
   "cell_type": "markdown",
   "metadata": {},
   "source": [
    "#### Profiling algorithm"
   ]
  },
  {
   "cell_type": "code",
   "execution_count": 7,
   "metadata": {},
   "outputs": [],
   "source": [
    "import cProfile\n",
    "import pstats\n",
    "from pstats import SortKey\n",
    "\n",
    "from utils import get_comparison_table\n",
    "from vns import basic_VNS"
   ]
  },
  {
   "cell_type": "code",
   "execution_count": 8,
   "metadata": {},
   "outputs": [],
   "source": [
    "SOLUTIONS_FILE = '/home/ubuntu/VNS_for_UMApHMP/data/AP/Solutions-UMApHMP.txt'\n",
    "DATASET = 'AP'\n",
    "INPUT_DIRECTORY = \"./data/AP/generated/\""
   ]
  },
  {
   "cell_type": "markdown",
   "metadata": {},
   "source": [
    "Let's profile `get_comparison_table` since it calls vns multiple times, for NUMBER_OF_PROBLEMS problems, so we have average statistics for different problems out of the box."
   ]
  },
  {
   "cell_type": "code",
   "execution_count": 9,
   "metadata": {},
   "outputs": [
    {
     "name": "stderr",
     "output_type": "stream",
     "text": [
      "100%|██████████| 10/10 [00:45<00:00,  4.59s/it]"
     ]
    },
    {
     "name": "stdout",
     "output_type": "stream",
     "text": [
      "Sun Aug 13 11:11:23 2023    output/profile_stats\n",
      "\n",
      "         7019867 function calls (6985675 primitive calls) in 46.037 seconds\n",
      "\n",
      "   Ordered by: cumulative time\n",
      "   List reduced from 576 to 30 due to restriction <30>\n",
      "\n",
      "   ncalls  tottime  percall  cumtime  percall filename:lineno(function)\n",
      "      8/1    0.000    0.000   46.037   46.037 {built-in method builtins.exec}\n",
      "        1    0.000    0.000   46.037   46.037 <string>:1(<module>)\n",
      "        1    0.001    0.001   46.037   46.037 utils.py:228(get_comparison_table)\n",
      "       10    0.007    0.001   45.892    4.589 vns.py:117(basic_VNS)\n",
      "    17050    0.056    0.000   45.745    0.003 utils.py:40(__init__)\n",
      "    17050    0.050    0.000   45.689    0.003 utils.py:53(_get_cost)\n",
      "    17050    0.152    0.000   45.639    0.003 utils.py:170(get_solution_cost_fw)\n",
      "      260    0.007    0.000   45.198    0.174 vns.py:73(local_search_best_improvement)\n",
      "      533    0.044    0.000   45.111    0.085 vns.py:77(<listcomp>)\n",
      "    17050   23.390    0.001   23.390    0.001 utils.py:145(_normal_paths_calulation)\n",
      "    17050    0.082    0.000   18.013    0.001 graph_utils.py:41(floyd_warshall)\n",
      "51150/17050    0.806    0.000   14.823    0.001 _compressed.py:26(__init__)\n",
      "    17050    0.075    0.000    6.055    0.000 _base.py:348(asformat)\n",
      "    17050    0.438    0.000    5.953    0.000 _coo.py:372(tocsr)\n",
      "    51150    1.312    0.000    5.295    0.000 _compressed.py:136(check_format)\n",
      "   102300    1.663    0.000    3.792    0.000 _sputils.py:147(get_index_dtype)\n",
      "    17050    0.360    0.000    3.323    0.000 _coo.py:127(__init__)\n",
      "    17050    0.855    0.000    3.109    0.000 {scipy.sparse.csgraph._shortest_path.floyd_warshall}\n",
      "    17050    0.088    0.000    2.721    0.000 utils.py:137(_prepare)\n",
      "    17050    0.570    0.000    2.008    0.000 _coo.py:266(_check)\n",
      "    68200    0.687    0.000    1.723    0.000 _sputils.py:295(check_shape)\n",
      "    51150    0.717    0.000    1.661    0.000 _compressed.py:1168(prune)\n",
      "    17050    1.177    0.000    1.500    0.000 utils.py:70(get_discount_matrix)\n",
      "    17050    0.082    0.000    1.487    0.000 _validation.py:9(validate_graph)\n",
      "   289912    0.900    0.000    1.422    0.000 {built-in method numpy.core._multiarray_umath.implement_array_function}\n",
      "    17050    0.437    0.000    1.362    0.000 utils.py:160(_peculiar_paths_calulations)\n",
      "    17050    0.501    0.000    1.360    0.000 {scipy.sparse.csgraph._tools.csgraph_to_dense}\n",
      "   272800    0.505    0.000    1.215    0.000 _base.py:291(nnz)\n",
      "    17050    1.073    0.000    1.093    0.000 utils.py:99(_get_valid_cost_graph)\n",
      "   170513    0.491    0.000    1.037    0.000 <__array_function__ internals>:177(can_cast)\n",
      "\n",
      "\n"
     ]
    },
    {
     "name": "stderr",
     "output_type": "stream",
     "text": [
      "\n"
     ]
    },
    {
     "data": {
      "text/plain": [
       "<pstats.Stats at 0x7f7d01327640>"
      ]
     },
     "execution_count": 9,
     "metadata": {},
     "output_type": "execute_result"
    }
   ],
   "source": [
    "NUMBER_OF_PROBLEMS = 10\n",
    "cProfile.run('comparison_table = get_comparison_table([basic_VNS], NUMBER_OF_PROBLEMS, DATASET, INPUT_DIRECTORY, SOLUTIONS_FILE)', 'output/profile_stats')\n",
    "p = pstats.Stats('output/profile_stats')\n",
    "p.strip_dirs().sort_stats('cumtime').print_stats(30)"
   ]
  },
  {
   "cell_type": "markdown",
   "metadata": {},
   "source": [
    "Let's take a look at the interesting ones:\n",
    "\n",
    "```\n",
    "ncalls  tottime  percall  cumtime  percall   filename:lineno(function)\n",
    "1         0.001    0.001   48.364   48.364   utils.py:212(get_comparison_table)\n",
    "10        0.006    0.001   48.235    4.823   vns.py:117(basic_VNS)\n",
    "17124     26.206   0.002   47.984    0.003   utils.py:137(get_solution_cost_fw)\n",
    "260       0.007    0.000   47.512    0.183   vns.py:73(local_search_best_improvement)\n",
    "17124     0.079    0.000   18.209    0.001   graph_utils.py:41(floyd_warshall)\n",
    "17124     0.076    0.000    6.110    0.000   _base.py:348(asformat)\n",
    "17124     0.439    0.000    6.004    0.000   _coo.py:372(tocsr)\n",
    "17124     0.847    0.000    3.097    0.000   {scipy.sparse.csgraph._shortest_path.floyd_warshall}\n",
    "17124     1.178    0.000    1.491    0.000   utils.py:70(get_discount_matrix)\n",
    "17124     0.083    0.000    1.473    0.000   _validation.py:9(validate_graph)\n",
    "17124     1.065    0.000    1.084    0.000   utils.py:99(_get_valid_cost_graph)\n",
    "260       0.001    0.000    0.687    0.003   vns.py:106(shake)\n",
    "260       0.002    0.000    0.686    0.003   vns.py:102(_shake_simple)\n",
    "794       0.003    0.000    0.074    0.000   utils.py:56(get_neighbourhood)\n",
    "544       0.038    0.000    0.071    0.000   utils.py:167(get_swap_neighbourhood)\n",
    "40        0.000    0.000    0.016    0.000   utils.py:67(get_distance_matrix)\n",
    "10        0.000    0.000    0.001    0.000   vns.py:14(get_initial_solution_robust)\n",
    "\n",
    "```"
   ]
  },
  {
   "cell_type": "markdown",
   "metadata": {},
   "source": [
    "How do we explain this line?\n",
    "```\n",
    "534    0.042    0.000   47.426    0.089 vns.py:77(<listcomp>)\n",
    "```\n",
    "\n",
    "It's this line:\n",
    "\n",
    "> neighbourhood = [Solution(neighbour, solution.problem) for neighbour in solution.get_neighbourhood(neighbourhood_type)]\n",
    "\n",
    "Costs are calculated here implicitly, when creating Solution - it's intentionally like that so the cost is always calulated only once per solution."
   ]
  },
  {
   "cell_type": "markdown",
   "metadata": {},
   "source": [
    "Check this:\n",
    "\n",
    "```\n",
    "17124    0.079    0.000   18.209    0.001 graph_utils.py:41(floyd_warshall)\n",
    "17124    0.439    0.000    6.004    0.000 _coo.py:372(tocsr)\n",
    "17124    0.847    0.000    3.097    0.000 {scipy.sparse.csgraph._shortest_path.floyd_warshall}\n",
    "```\n",
    "\n",
    "```\n",
    "def floyd_warshall(graph):\n",
    "    sparse_graph = csr_matrix(graph)\n",
    "    _, predecessors = csgraph.floyd_warshall(csgraph=sparse_graph, directed=True, return_predecessors=True)\n",
    "    return predecessors\n",
    "```\n",
    "\n",
    "`scipy.sparse.csgraph._shortest_path.floyd_warshall` itself takes significatnly less time compared to preparing the right data format for the input."
   ]
  },
  {
   "cell_type": "markdown",
   "metadata": {},
   "source": [
    "We can definitelly say that it's only worth improving `get_solution_cost_fw` at this point, since it's taking 99.5 % of VNS time."
   ]
  },
  {
   "cell_type": "markdown",
   "metadata": {},
   "source": [
    "### Let's than profile `get_solution_cost_fw` in more details (we extracted parts of it in separate functions for this purpose)"
   ]
  },
  {
   "cell_type": "code",
   "execution_count": null,
   "metadata": {},
   "outputs": [
    {
     "name": "stderr",
     "output_type": "stream",
     "text": [
      "  0%|          | 0/30 [00:00<?, ?it/s]"
     ]
    },
    {
     "name": "stderr",
     "output_type": "stream",
     "text": [
      "100%|██████████| 30/30 [40:13<00:00, 80.46s/it] \n"
     ]
    }
   ],
   "source": [
    "NUMBER_OF_PROBLEMS = 30\n",
    "cProfile.run('comparison_table = get_comparison_table([basic_VNS], NUMBER_OF_PROBLEMS, DATASET, INPUT_DIRECTORY, SOLUTIONS_FILE)', 'output/profile_stats')"
   ]
  },
  {
   "cell_type": "code",
   "execution_count": null,
   "metadata": {},
   "outputs": [
    {
     "name": "stdout",
     "output_type": "stream",
     "text": [
      "Sun Aug 13 10:52:32 2023    output/profile_stats\n",
      "\n",
      "         74127320 function calls (73816246 primitive calls) in 2413.813 seconds\n",
      "\n",
      "   Ordered by: cumulative time\n",
      "   List reduced from 344 to 30 due to restriction <30>\n",
      "\n",
      "   ncalls  tottime  percall  cumtime  percall filename:lineno(function)\n",
      "        1    0.000    0.000 2413.813 2413.813 {built-in method builtins.exec}\n",
      "        1    0.000    0.000 2413.813 2413.813 <string>:1(<module>)\n",
      "        1    0.002    0.002 2413.813 2413.813 utils.py:228(get_comparison_table)\n",
      "       30    0.038    0.001 2413.652   80.455 vns.py:117(basic_VNS)\n",
      "   155534    0.699    0.000 2412.266    0.016 utils.py:40(__init__)\n",
      "   155534    0.722    0.000 2411.567    0.016 utils.py:53(_get_cost)\n",
      "   155534    1.807    0.000 2410.845    0.016 utils.py:170(get_solution_cost_fw)\n",
      "      782    0.037    0.000 2405.663    3.076 vns.py:73(local_search_best_improvement)\n",
      "     1626    0.611    0.000 2404.967    1.479 vns.py:77(<listcomp>)\n",
      "   155534 2024.024    0.013 2024.024    0.013 utils.py:145(_normal_paths_calulation)\n",
      "   155534    0.978    0.000  194.008    0.001 graph_utils.py:41(floyd_warshall)\n",
      "466602/155534    8.457    0.000  149.073    0.001 _compressed.py:26(__init__)\n",
      "   155534    1.028    0.000  147.759    0.001 utils.py:137(_prepare)\n",
      "   155534   69.963    0.000   74.366    0.000 utils.py:70(get_discount_matrix)\n",
      "   155534   71.573    0.000   71.780    0.000 utils.py:99(_get_valid_cost_graph)\n",
      "   155534    0.779    0.000   59.434    0.000 _base.py:348(asformat)\n",
      "   155534    4.553    0.000   58.387    0.000 _coo.py:372(tocsr)\n",
      "   466602   12.495    0.000   49.101    0.000 _compressed.py:136(check_format)\n",
      "   155534   19.187    0.000   43.957    0.000 {scipy.sparse.csgraph._shortest_path.floyd_warshall}\n",
      "   155534   13.680    0.000   43.249    0.000 utils.py:160(_peculiar_paths_calulations)\n",
      "   155534    4.558    0.000   37.760    0.000 _coo.py:127(__init__)\n",
      "   933204   15.340    0.000   35.910    0.000 _sputils.py:147(get_index_dtype)\n",
      "  4784042   13.088    0.000   29.569    0.000 utils.py:280(_closest)\n",
      "   155534    6.020    0.000   21.308    0.000 _coo.py:266(_check)\n",
      "   622136    6.639    0.000   16.356    0.000 _sputils.py:295(check_shape)\n",
      "  2644126   10.695    0.000   16.051    0.000 {built-in method numpy.core._multiarray_umath.implement_array_function}\n",
      "   155534    0.869    0.000   15.811    0.000 _validation.py:9(validate_graph)\n",
      "   466602    6.750    0.000   15.558    0.000 _compressed.py:1168(prune)\n",
      "   155534    6.188    0.000   14.529    0.000 {scipy.sparse.csgraph._tools.csgraph_to_dense}\n",
      "  2488544    4.715    0.000   11.458    0.000 _base.py:291(nnz)\n",
      "\n",
      "\n"
     ]
    },
    {
     "data": {
      "text/plain": [
       "<pstats.Stats at 0x7fdc60f3c040>"
      ]
     },
     "metadata": {},
     "output_type": "display_data"
    }
   ],
   "source": [
    "p = pstats.Stats('output/profile_stats')\n",
    "p.strip_dirs().sort_stats('cumtime').print_stats(30)"
   ]
  },
  {
   "cell_type": "markdown",
   "metadata": {},
   "source": [
    "For the first 10 problems:\n",
    "```\n",
    "17143    0.154    0.000   45.916  =100%   0.003   utils.py:170(get_solution_cost_fw)          \n",
    "17143   23.622    0.001   23.622  =51%    0.001   utils.py:145(_normal_paths_calulation)        3*n^2\n",
    "17143    0.087    0.000   18.048  =39%    0.001   graph_utils.py:41(floyd_warshall)             p*n^2  ???\n",
    "17143    0.090    0.000    2.724  =0.1%   0.000   utils.py:137(_prepare)                        2*n^2\n",
    "17143    0.443    0.000    1.369  =0.02%  0.000   utils.py:160(_peculiar_paths_calulations)     p*n\n",
    "```"
   ]
  },
  {
   "cell_type": "markdown",
   "metadata": {},
   "source": [
    "For the first 25 problems:\n",
    "```\n",
    "100783    1.068    0.000 1057.147  =100%   0.010   utils.py:170(get_solution_cost_fw)\n",
    "100783  854.984    0.008  854.984  =80.7%  0.008   utils.py:145(_normal_paths_calulation)\n",
    "100783    0.568    0.000  118.567  =11.2%  0.001   graph_utils.py:41(floyd_warshall)\n",
    "100783    0.633    0.000   61.356  =5%     0.001   utils.py:137(_prepare)\n",
    "100783    6.718    0.000   21.172  =1%     0.000   utils.py:160(_peculiar_paths_calulations)\n",
    "\n",
    "```"
   ]
  },
  {
   "cell_type": "markdown",
   "metadata": {},
   "source": [
    "For the first 30 problems:\n",
    "```\n",
    "155534    1.807    0.000 2410.845  =100%  0.016   utils.py:170(get_solution_cost_fw)\n",
    "155534 2024.024    0.013 2024.024  =83%   0.013 utils.py:145(_normal_paths_calulation)\n",
    "155534    0.978    0.000  194.008  =8%    0.001 graph_utils.py:41(floyd_warshall)\n",
    "155534    1.028    0.000  147.759         0.001 utils.py:137(_prepare)\n",
    "155534   13.680    0.000   43.249         0.000 utils.py:160(_peculiar_paths_calulations)\n",
    "```"
   ]
  },
  {
   "cell_type": "markdown",
   "metadata": {},
   "source": [
    "This is weird! If they are of the same complexity, how come `_normal_paths_calulation` have such increase in time with increase of n??"
   ]
  }
 ],
 "metadata": {
  "kernelspec": {
   "display_name": "Python 3",
   "language": "python",
   "name": "python3"
  },
  "language_info": {
   "codemirror_mode": {
    "name": "ipython",
    "version": 3
   },
   "file_extension": ".py",
   "mimetype": "text/x-python",
   "name": "python",
   "nbconvert_exporter": "python",
   "pygments_lexer": "ipython3",
   "version": "3.10.12"
  },
  "orig_nbformat": 4
 },
 "nbformat": 4,
 "nbformat_minor": 2
}
