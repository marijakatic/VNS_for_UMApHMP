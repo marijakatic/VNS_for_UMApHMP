{
 "cells": [
  {
   "cell_type": "code",
   "execution_count": 1,
   "metadata": {},
   "outputs": [],
   "source": [
    "from os import listdir\n",
    "from os.path import isfile, join\n",
    "from termcolor import cprint"
   ]
  },
  {
   "cell_type": "code",
   "execution_count": 2,
   "metadata": {},
   "outputs": [],
   "source": [
    "from scipy.spatial import distance_matrix\n",
    "import numpy as np\n",
    "\n",
    "from read_dataset import read_AP\n",
    "from read_dataset import read_CAB\n",
    "from plot_solution import plot_solution\n",
    "import build_model"
   ]
  },
  {
   "cell_type": "code",
   "execution_count": 3,
   "metadata": {},
   "outputs": [
    {
     "name": "stdout",
     "output_type": "stream",
     "text": [
      "Processing input ./data/AP_instances_v1/AP20.3.txt\n",
      "[./data/AP_instances_v1/AP20.3.txt] Same hubs found\n",
      "[./data/AP_instances_v1/AP20.3.txt] Same optimal cost\n",
      "Processing input ./data/AP_instances_v1/AP10.4.txt\n",
      "[./data/AP_instances_v1/AP10.4.txt] Same hubs found\n",
      "[./data/AP_instances_v1/AP10.4.txt] Same optimal cost\n",
      "Processing input ./data/AP_instances_v1/AP20.10.txt\n",
      "[./data/AP_instances_v1/AP20.10.txt] Same hubs found\n",
      "[./data/AP_instances_v1/AP20.10.txt] Same optimal cost\n",
      "Processing input ./data/AP_instances_v1/AP10.3.txt\n",
      "[./data/AP_instances_v1/AP10.3.txt] Same hubs found\n",
      "[./data/AP_instances_v1/AP10.3.txt] Same optimal cost\n",
      "Processing input ./data/AP_instances_v1/AP10.5.txt\n",
      "[./data/AP_instances_v1/AP10.5.txt] Same hubs found\n",
      "[./data/AP_instances_v1/AP10.5.txt] Same optimal cost\n"
     ]
    }
   ],
   "source": [
    "resources = \"./data/AP_instances_v1/\"\n",
    "\n",
    "files = [join(resources, f) for f in listdir(resources) if isfile(join(resources, f))]\n",
    "\n",
    "\n",
    "for file in files:\n",
    "    print (\"Processing input \" + file)\n",
    "    N, p, alpha, delta, ksi, points, W = read_AP(file)\n",
    "    C = distance_matrix(points, points)\n",
    "    \n",
    "    M_1, X_1, H_1 = build_model.UMApHMP_f1(N, p, alpha, delta, ksi, C, W, verbose=False)\n",
    "    solution_1 = M_1.solve(log_output=False)\n",
    "    Hubs_1 = [solution_1.get_var_value(H_1[i]) for i in range(N)]\n",
    "    cost_1 = round(solution_1.objective_value, 6)\n",
    "\n",
    "    M_2, X_2, Y_2, Z_2, H_2 = build_model.UMApHMP_f2(N, p, alpha, delta, ksi, C, W, verbose=False)\n",
    "    solution_2 = M_2.solve(log_output=False)\n",
    "    Hubs_2 = [solution_2.get_var_value(H_2[i]) for i in range(N)]\n",
    "    cost_2 = round(solution_2.objective_value, 6)\n",
    "\n",
    "    if Hubs_1 == Hubs_2:\n",
    "        print (\"[\"+ file + \"] Same hubs found\")\n",
    "    else:\n",
    "        cprint (\"[\"+ file + \"] Hubs differ: {} and {}!\".format(Hubs_1, Hubs_2), \"red\")\n",
    "\n",
    "    if cost_1 == cost_2:\n",
    "        print (\"[\"+ file + \"] Same optimal cost\")\n",
    "    else:\n",
    "        cprint (\"[\"+ file + \"] Costs differ: {} and {}!\".format(cost_1, cost_2), \"red\")"
   ]
  },
  {
   "cell_type": "code",
   "execution_count": null,
   "metadata": {},
   "outputs": [],
   "source": []
  }
 ],
 "metadata": {
  "kernelspec": {
   "display_name": "Python 3",
   "language": "python",
   "name": "python3"
  },
  "language_info": {
   "codemirror_mode": {
    "name": "ipython",
    "version": 3
   },
   "file_extension": ".py",
   "mimetype": "text/x-python",
   "name": "python",
   "nbconvert_exporter": "python",
   "pygments_lexer": "ipython3",
   "version": "3.10.6"
  },
  "orig_nbformat": 4
 },
 "nbformat": 4,
 "nbformat_minor": 2
}
