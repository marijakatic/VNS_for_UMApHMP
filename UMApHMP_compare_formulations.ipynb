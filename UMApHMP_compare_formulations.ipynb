{
 "cells": [
  {
   "cell_type": "code",
   "execution_count": 1,
   "metadata": {},
   "outputs": [],
   "source": [
    "from os import listdir\n",
    "from os.path import isfile\n",
    "from termcolor import cprint\n",
    "\n",
    "from scipy.spatial import distance_matrix\n",
    "import numpy as np\n",
    "\n",
    "import ioutils \n",
    "import cplex_utils as cplex_utils"
   ]
  },
  {
   "cell_type": "code",
   "execution_count": 2,
   "metadata": {},
   "outputs": [],
   "source": [
    "DATASET = 'AP'\n",
    "INPUT_DIRECTORY = f\"./data/{DATASET}/\""
   ]
  },
  {
   "cell_type": "code",
   "execution_count": 3,
   "metadata": {},
   "outputs": [
    {
     "name": "stdout",
     "output_type": "stream",
     "text": [
      "['10.2', '10.3', '10.4', '10.5']\n",
      "Processing input 10.2\n"
     ]
    },
    {
     "name": "stdout",
     "output_type": "stream",
     "text": [
      "[10.2] Same hubs found\n",
      "[10.2] Same optimal cost\n",
      "----------------------------\n",
      "Processing input 10.3\n",
      "[10.3] Same hubs found\n",
      "[10.3] Same optimal cost\n",
      "----------------------------\n",
      "Processing input 10.4\n",
      "[10.4] Same hubs found\n",
      "[10.4] Same optimal cost\n",
      "----------------------------\n",
      "Processing input 10.5\n",
      "[10.5] Same hubs found\n",
      "[10.5] Same optimal cost\n",
      "----------------------------\n"
     ]
    }
   ],
   "source": [
    "files = listdir(INPUT_DIRECTORY)\n",
    "files.sort()\n",
    "files = files[:4]\n",
    "filter(isfile, files)\n",
    "print(files)\n",
    "\n",
    "for file in files:\n",
    "    print (\"Processing input \" + file)\n",
    "    N, p, alpha, delta, ksi, points, W = ioutils.parse_input(INPUT_DIRECTORY + file, DATASET)\n",
    "    C = distance_matrix(points, points)\n",
    "    \n",
    "    M_1, X_1, H_1 = cplex_utils.get_umaphmp_model(N, p, alpha, delta, ksi, C, W, formulation='C', verbose=False)\n",
    "    solution_1 = M_1.solve(log_output=False)\n",
    "    Hubs_1 = [int(solution_1.get_var_value(H_1[i])) for i in range(N)]\n",
    "    cost_1 = round(solution_1.objective_value, 6)\n",
    "\n",
    "    M_2, X_2, Y_2, Z_2, H_2 = cplex_utils.get_umaphmp_model(N, p, alpha, delta, ksi, C, W, formulation='EK', verbose=False)\n",
    "    solution_2 = M_2.solve(log_output=False)\n",
    "    Hubs_2 = [int(solution_2.get_var_value(H_2[i])) for i in range(N)]\n",
    "    cost_2 = round(solution_2.objective_value, 6)\n",
    "\n",
    "    if Hubs_1 == Hubs_2:\n",
    "        print (\"[\"+ file + \"] Same hubs found\")\n",
    "    else:\n",
    "        cprint (\"[\"+ file + \"] Hubs differ: {} and {}!\".format(Hubs_1, Hubs_2), \"red\")\n",
    "\n",
    "    if cost_1 == cost_2:\n",
    "        print (\"[\"+ file + \"] Same optimal cost\")\n",
    "    else:\n",
    "        cprint (\"[\"+ file + \"] Costs differ: {} and {}!\".format(cost_1, cost_2), \"red\")\n",
    "    print (\"----------------------------\")"
   ]
  }
 ],
 "metadata": {
  "kernelspec": {
   "display_name": "Python 3",
   "language": "python",
   "name": "python3"
  },
  "language_info": {
   "codemirror_mode": {
    "name": "ipython",
    "version": 3
   },
   "file_extension": ".py",
   "mimetype": "text/x-python",
   "name": "python",
   "nbconvert_exporter": "python",
   "pygments_lexer": "ipython3",
   "version": "3.10.6"
  },
  "orig_nbformat": 4
 },
 "nbformat": 4,
 "nbformat_minor": 2
}
