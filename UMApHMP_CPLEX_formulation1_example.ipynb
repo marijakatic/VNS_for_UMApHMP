{
 "cells": [
  {
   "cell_type": "code",
   "execution_count": 1,
   "metadata": {
    "colab": {
     "base_uri": "https://localhost:8080/"
    },
    "id": "HhkamfuF-jq9",
    "outputId": "da8a8885-052e-4af8-8304-8742f8d1245c"
   },
   "outputs": [],
   "source": [
    "# !pip install docplex\n",
    "# !pip install numpy\n",
    "# !pip install matplotlib"
   ]
  },
  {
   "cell_type": "code",
   "execution_count": 2,
   "metadata": {},
   "outputs": [],
   "source": [
    "import numpy as np\n",
    "from numpy import sqrt\n",
    "import matplotlib.pyplot as plt \n",
    "\n",
    "from docplex.mp.model import Model\n",
    "\n",
    "from plot_solution import plot_solution"
   ]
  },
  {
   "cell_type": "code",
   "execution_count": 3,
   "metadata": {
    "id": "NzgUHAYq-4dh"
   },
   "outputs": [],
   "source": [
    "# create one model instance, with a name\n",
    "M = Model(name='UMApHMP')"
   ]
  },
  {
   "cell_type": "code",
   "execution_count": 4,
   "metadata": {
    "id": "Gx9uH7ru-4-m"
   },
   "outputs": [],
   "source": [
    "# number of nodes\n",
    "n = 5\n",
    "Range = range(n)\n",
    "alpha = 0.75\n",
    "p = 2\n",
    "# C should be calculated from the points, but I had values for C from the paper\n",
    "points = [(0,0), (0,4), (1,5), (3,0), (5,1)]\n",
    "point_names = ['A', 'B','C', 'D', 'E']"
   ]
  },
  {
   "cell_type": "code",
   "execution_count": 5,
   "metadata": {
    "id": "7jPS0knt-5BD"
   },
   "outputs": [
    {
     "data": {
      "text/plain": [
       "matrix([[0.        , 4.        , 5.09901951, 3.        , 5.09901951],\n",
       "        [4.        , 0.        , 1.41421356, 5.        , 5.83095189],\n",
       "        [5.09901951, 1.41421356, 0.        , 5.38516481, 5.65685425],\n",
       "        [3.        , 5.        , 5.38516481, 0.        , 2.23606798],\n",
       "        [5.09901951, 5.83095189, 5.65685425, 2.23606798, 0.        ]])"
      ]
     },
     "execution_count": 5,
     "metadata": {},
     "output_type": "execute_result"
    }
   ],
   "source": [
    "# distance\n",
    "C = np.matrix([[0, 4, sqrt(26), 3, sqrt(26)], \n",
    "               [4, 0, sqrt(2), 5, sqrt(34)],\n",
    "               [sqrt(26), sqrt(2), 0, sqrt(29), 4*sqrt(2)],\n",
    "               [3, 5, sqrt(29), 0, sqrt(5)],\n",
    "               [sqrt(26), sqrt(34), 4*sqrt(2), sqrt(5), 0]])\n",
    "C"
   ]
  },
  {
   "cell_type": "code",
   "execution_count": 6,
   "metadata": {
    "id": "iyhFOXyD-5Du"
   },
   "outputs": [
    {
     "data": {
      "text/plain": [
       "array([[0., 1., 1., 1., 1.],\n",
       "       [1., 0., 1., 1., 1.],\n",
       "       [1., 1., 0., 1., 1.],\n",
       "       [1., 1., 1., 0., 1.],\n",
       "       [1., 1., 1., 1., 0.]])"
      ]
     },
     "execution_count": 6,
     "metadata": {},
     "output_type": "execute_result"
    }
   ],
   "source": [
    "# demand\n",
    "W = np.ones((n,n))\n",
    "for i in range(n):\n",
    "  W[i,i] = 0\n",
    "W "
   ]
  },
  {
   "cell_type": "code",
   "execution_count": 7,
   "metadata": {
    "id": "KR2y_AbmmcMx"
   },
   "outputs": [],
   "source": [
    "X = {(i,j,k,m): M.binary_var(name='X_{0}_{1}_{2}_{3}'.format(i,j,k,m)) for i in Range for j in Range for k in Range for m in Range} # define Xijkm"
   ]
  },
  {
   "cell_type": "code",
   "execution_count": 8,
   "metadata": {
    "id": "28quc2WmrF8L"
   },
   "outputs": [],
   "source": [
    "H = {k: M.binary_var(name='H_{0}'.format(k)) for k in Range} # define Hk (i.e. Xkk)"
   ]
  },
  {
   "cell_type": "code",
   "execution_count": 9,
   "metadata": {
    "colab": {
     "base_uri": "https://localhost:8080/"
    },
    "id": "4v7vEbW6rF-r",
    "outputId": "8bb19eb3-32a6-41a8-b028-405f9e59d06d"
   },
   "outputs": [
    {
     "data": {
      "text/plain": [
       "docplex.mp.LinearConstraint[](H_0+H_1+H_2+H_3+H_4,EQ,2)"
      ]
     },
     "execution_count": 9,
     "metadata": {},
     "output_type": "execute_result"
    }
   ],
   "source": [
    "M.add_constraint(M.sum(H[k] for k in Range) == p) # (4)"
   ]
  },
  {
   "cell_type": "code",
   "execution_count": 10,
   "metadata": {
    "id": "z5BzXhb9tKRB"
   },
   "outputs": [],
   "source": [
    "# Xik is 0 or 1 - I am not sure why would we need it when it doesn't appear anymore (5)"
   ]
  },
  {
   "cell_type": "code",
   "execution_count": 11,
   "metadata": {
    "id": "ntWHWhhArGBo"
   },
   "outputs": [],
   "source": [
    "# Xijkm >= 0 is default behavior (10)"
   ]
  },
  {
   "cell_type": "code",
   "execution_count": 12,
   "metadata": {
    "id": "mc203Bnms4rj"
   },
   "outputs": [],
   "source": [
    "for i in Range:\n",
    "  for j in Range:\n",
    "    M.add_constraint(M.sum(M.sum(X[i,j,k,m] for m in Range) for k in Range) == 1) # (14)"
   ]
  },
  {
   "cell_type": "code",
   "execution_count": 13,
   "metadata": {
    "id": "iGBOEKrqs4tx"
   },
   "outputs": [],
   "source": [
    "for i in Range:\n",
    "  for j in Range:\n",
    "    for k in Range:\n",
    "      for m in Range:\n",
    "        M.add_constraint(X[i,j,k,m] <= H[k]) # (15)"
   ]
  },
  {
   "cell_type": "code",
   "execution_count": 14,
   "metadata": {
    "id": "HYjO69Cos4v0"
   },
   "outputs": [],
   "source": [
    "for i in Range:\n",
    "  for j in Range:\n",
    "    for k in Range:\n",
    "      for m in Range:\n",
    "        M.add_constraint(X[i,j,k,m] <= H[m]) # (16)"
   ]
  },
  {
   "cell_type": "code",
   "execution_count": 15,
   "metadata": {
    "id": "qAmqRsPH-5LJ"
   },
   "outputs": [],
   "source": [
    "M.minimize(M.sum(M.sum(M.sum(M.sum(W[i][j]*X[i,j,k,m]*(C[i,k]+C[m,j]+alpha*C[k,m]) for m in Range) for k in Range) for j in Range) for i in Range)) # (7)"
   ]
  },
  {
   "cell_type": "code",
   "execution_count": 16,
   "metadata": {
    "colab": {
     "base_uri": "https://localhost:8080/"
    },
    "id": "75DAUucKqgjR",
    "outputId": "0ec8d169-4389-48f0-e63f-79fa96078825"
   },
   "outputs": [
    {
     "name": "stdout",
     "output_type": "stream",
     "text": [
      "Model: UMApHMP\n",
      " - number of variables: 630\n",
      "   - binary=630, integer=0, continuous=0\n",
      " - number of constraints: 1276\n",
      "   - linear=1276\n",
      " - parameters: defaults\n",
      " - objective: minimize\n",
      " - problem type is: MILP\n"
     ]
    }
   ],
   "source": [
    "M.print_information()"
   ]
  },
  {
   "cell_type": "code",
   "execution_count": 17,
   "metadata": {
    "colab": {
     "base_uri": "https://localhost:8080/",
     "height": 311
    },
    "id": "0w6C6RBNeTsA",
    "outputId": "fe3ad166-02f0-42b5-eb81-7eb907052be6"
   },
   "outputs": [],
   "source": [
    "solution = M.solve()"
   ]
  },
  {
   "cell_type": "code",
   "execution_count": 18,
   "metadata": {},
   "outputs": [],
   "source": [
    "# Calculate the total flow between every pair of nodes given allocated variables from the solution\n",
    "def get_flow(Xijkl):\n",
    "  flow = np.zeros((n,n))\n",
    "\n",
    "  for i in Range:\n",
    "    for j in Range:\n",
    "      for k in Range:\n",
    "        for l in Range:\n",
    "          if Xijkl[i,j,k,l] == 1:\n",
    "            if i != j:\n",
    "              flow[i,j] += W[i,l]\n",
    "            if j != k:\n",
    "              flow[j,k] += W[i,l]\n",
    "            if k != l:\n",
    "              flow[k,l] += W[i,l]\n",
    "\n",
    "  return flow"
   ]
  },
  {
   "cell_type": "code",
   "execution_count": 19,
   "metadata": {
    "colab": {
     "base_uri": "https://localhost:8080/",
     "height": 217
    },
    "id": "EY8smYSPeTxJ",
    "outputId": "665909f0-6f32-499e-edfa-9acd98cb8086"
   },
   "outputs": [
    {
     "name": "stdout",
     "output_type": "stream",
     "text": [
      "solution for: UMApHMP\n",
      "objective: 86.582\n",
      "status: OPTIMAL_SOLUTION(2)\n",
      "X_0_0_3_3 = 1\n",
      "X_0_1_1_1 = 1\n",
      "X_0_2_1_1 = 1\n",
      "X_0_3_3_3 = 1\n",
      "X_0_4_3_3 = 1\n",
      "X_1_0_1_1 = 1\n",
      "X_1_1_1_1 = 1\n",
      "X_1_2_1_1 = 1\n",
      "X_1_3_1_3 = 1\n",
      "X_1_4_1_1 = 1\n",
      "X_2_0_1_1 = 1\n",
      "X_2_1_1_1 = 1\n",
      "X_2_2_3_3 = 1\n",
      "X_2_3_1_3 = 1\n",
      "X_2_4_1_1 = 1\n",
      "X_3_0_3_3 = 1\n",
      "X_3_1_3_1 = 1\n",
      "X_3_2_3_1 = 1\n",
      "X_3_3_1_1 = 1\n",
      "X_3_4_3_3 = 1\n",
      "X_4_0_3_3 = 1\n",
      "X_4_1_1_1 = 1\n",
      "X_4_2_1_1 = 1\n",
      "X_4_3_3_3 = 1\n",
      "X_4_4_1_1 = 1\n",
      "H_1 = 1\n",
      "H_3 = 1\n"
     ]
    }
   ],
   "source": [
    "if solution:\n",
    "  solution.display()\n",
    "else:\n",
    "  print(\"CPLEX failed to find the solution!\")"
   ]
  },
  {
   "cell_type": "code",
   "execution_count": 20,
   "metadata": {
    "id": "a-5k1VDIuqP5"
   },
   "outputs": [],
   "source": [
    "Xijkl = {}\n",
    "Xijkl = {(i,j,k,l): solution.get_var_value(X[i,j,k,l]) for i in Range for j in Range for k in Range for l in Range}\n",
    "# Z_allocated = {(i,k): solution.get_var_value(Z[i,k]) for i in Range for k in Range}\n"
   ]
  },
  {
   "cell_type": "code",
   "execution_count": 21,
   "metadata": {},
   "outputs": [],
   "source": [
    "Hubs = [solution.get_var_value(H[i]) for i in Range]"
   ]
  },
  {
   "cell_type": "code",
   "execution_count": 22,
   "metadata": {},
   "outputs": [],
   "source": [
    "flow = get_flow(Xijkl)"
   ]
  },
  {
   "cell_type": "code",
   "execution_count": 23,
   "metadata": {},
   "outputs": [
    {
     "data": {
      "text/plain": [
       "86.58178798836512"
      ]
     },
     "execution_count": 23,
     "metadata": {},
     "output_type": "execute_result"
    }
   ],
   "source": [
    "solution.objective_value"
   ]
  },
  {
   "cell_type": "code",
   "execution_count": 24,
   "metadata": {},
   "outputs": [
    {
     "data": {
      "image/png": "[encoded data removed]",
      "text/plain": [
       "<Figure size 500x500 with 1 Axes>"
      ]
     },
     "metadata": {},
     "output_type": "display_data"
    }
   ],
   "source": [
    "fig, ax = plt.subplots(1, figsize=(5, 5))\n",
    "plot_solution(ax, points, point_names, Hubs, flow)\n",
    "plt.show()"
   ]
  },
  {
   "cell_type": "code",
   "execution_count": null,
   "metadata": {},
   "outputs": [],
   "source": []
  }
 ],
 "metadata": {
  "colab": {
   "provenance": []
  },
  "kernelspec": {
   "display_name": "Python 3",
   "language": "python",
   "name": "python3"
  },
  "language_info": {
   "codemirror_mode": {
    "name": "ipython",
    "version": 3
   },
   "file_extension": ".py",
   "mimetype": "text/x-python",
   "name": "python",
   "nbconvert_exporter": "python",
   "pygments_lexer": "ipython3",
   "version": "3.10.6"
  }
 },
 "nbformat": 4,
 "nbformat_minor": 1
}
