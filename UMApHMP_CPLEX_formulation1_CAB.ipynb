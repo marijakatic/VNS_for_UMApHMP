{
 "cells": [
  {
   "cell_type": "code",
   "execution_count": 1,
   "metadata": {},
   "outputs": [],
   "source": [
    "import scipy\n",
    "from scipy.spatial import distance_matrix\n",
    "import numpy as np\n",
    "import string\n",
    "\n",
    "from read_dataset import read_AP\n",
    "from read_dataset import read_CAB\n",
    "from plot_solution import plot_solution\n",
    "import build_model"
   ]
  },
  {
   "cell_type": "code",
   "execution_count": 2,
   "metadata": {},
   "outputs": [],
   "source": [
    "N, p, alpha, delta, ksi, C, W = read_CAB(\"./data/CAB_instances_v1/CAB25.3.1.txt\")"
   ]
  },
  {
   "cell_type": "code",
   "execution_count": 3,
   "metadata": {},
   "outputs": [
    {
     "name": "stdout",
     "output_type": "stream",
     "text": [
      "[2023-05-21 20:50:13.638744] Created model M\n",
      "[2023-05-21 20:50:26.309731] Defined variable X\n",
      "[2023-05-21 20:50:26.310425] Defined variable H\n",
      "[2023-05-21 20:50:26.348616] Defined constraint (4)\n",
      "[2023-05-21 20:50:27.543102] Defined constraint (14)\n",
      "[2023-05-21 20:50:46.758663] Defined constraint (15)\n",
      "[2023-05-21 20:51:04.111171] Defined constraint (16)\n",
      "[2023-05-21 20:51:07.595036] Defined constraint (7)\n",
      "Version identifier: 22.1.1.0 | 2022-11-28 | 9160aff4d\n",
      "CPXPARAM_Read_DataCheck                          1\n",
      "Tried aggregator 1 time.\n",
      "Presolve has eliminated 765625 rows and 375000 columns...\n",
      "MIP Presolve eliminated 765625 rows and 375000 columns.\n",
      "MIP Presolve modified 15625 coefficients.\n",
      "Reduced MIP has 16251 rows, 15650 columns, and 46900 nonzeros.\n",
      "Reduced MIP has 15650 binaries, 0 generals, 0 SOSs, and 0 indicators.\n",
      "Presolve time = 23.37 sec. (12643.28 ticks)\n",
      "Found incumbent of value 1.3634078e+10 after 23.47 sec. (12715.02 ticks)\n",
      "Probing time = 0.03 sec. (5.79 ticks)\n",
      "Tried aggregator 1 time.\n",
      "Detecting symmetries...\n",
      "Reduced MIP has 16251 rows, 15650 columns, and 46900 nonzeros.\n",
      "Reduced MIP has 15650 binaries, 0 generals, 0 SOSs, and 0 indicators.\n",
      "Presolve time = 0.36 sec. (213.11 ticks)\n",
      "Probing time = 0.02 sec. (5.98 ticks)\n",
      "Clique table members: 16250.\n",
      "MIP emphasis: balance optimality and feasibility.\n",
      "MIP search method: dynamic search.\n",
      "Parallel mode: deterministic, using up to 4 threads.\n",
      "Root relaxation solution time = 0.74 sec. (398.10 ticks)\n",
      "\n",
      "        Nodes                                         Cuts/\n",
      "   Node  Left     Objective  IInf  Best Integer    Best Bound    ItCnt     Gap\n",
      "\n",
      "*     0+    0                       1.36341e+10        0.0000           100.00%\n",
      "*     0+    0                       1.10383e+10        0.0000           100.00%\n",
      "      0     0   9.06424e+09  1036   1.10383e+10   9.06424e+09       30   17.88%\n",
      "*     0+    0                       1.04450e+10   9.06424e+09            13.22%\n",
      "      0     0   9.06516e+09  1036   1.04450e+10      Cuts: 52       37   13.21%\n",
      "*     0+    0                       9.82786e+09   9.06516e+09             7.76%\n",
      "*     0+    0                       9.07071e+09   9.06516e+09             0.06%\n",
      "      0     0        cutoff         9.07071e+09   9.07071e+09       49    0.00%\n",
      "Elapsed time = 25.12 sec. (13728.97 ticks, tree = 0.01 MB, solutions = 5)\n",
      "\n",
      "Zero-half cuts applied:  90\n",
      "Lift and project cuts applied:  1\n",
      "Gomory fractional cuts applied:  2\n",
      "\n",
      "Root node processing (before b&c):\n",
      "  Real time             =   25.15 sec. (13751.72 ticks)\n",
      "Parallel b&c, 4 threads:\n",
      "  Real time             =    0.00 sec. (0.00 ticks)\n",
      "  Sync time (average)   =    0.00 sec.\n",
      "  Wait time (average)   =    0.00 sec.\n",
      "                          ------------\n",
      "Total (root+branch&cut) =   25.15 sec. (13751.72 ticks)\n"
     ]
    }
   ],
   "source": [
    "M, X, H = build_model.UMApHMP_f1(N, p, alpha, delta, ksi, C, W)\n",
    "solution = M.solve(log_output=True)\n",
    "Hubs = [solution.get_var_value(H[i]) for i in range(N)]\n",
    "cost = round(solution.objective_value, 7)"
   ]
  },
  {
   "cell_type": "code",
   "execution_count": 4,
   "metadata": {},
   "outputs": [
    {
     "data": {
      "text/plain": [
       "9070712365.2327"
      ]
     },
     "execution_count": 4,
     "metadata": {},
     "output_type": "execute_result"
    }
   ],
   "source": [
    "cost"
   ]
  }
 ],
 "metadata": {
  "kernelspec": {
   "display_name": "Python 3",
   "language": "python",
   "name": "python3"
  },
  "language_info": {
   "codemirror_mode": {
    "name": "ipython",
    "version": 3
   },
   "file_extension": ".py",
   "mimetype": "text/x-python",
   "name": "python",
   "nbconvert_exporter": "python",
   "pygments_lexer": "ipython3",
   "version": "3.10.6"
  },
  "orig_nbformat": 4
 },
 "nbformat": 4,
 "nbformat_minor": 2
}
