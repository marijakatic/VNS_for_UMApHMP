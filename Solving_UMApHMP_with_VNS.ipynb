{
 "cells": [
  {
   "cell_type": "markdown",
   "metadata": {},
   "source": [
    "## Solving UMApHMP with VNS"
   ]
  },
  {
   "cell_type": "code",
   "execution_count": 1,
   "metadata": {},
   "outputs": [],
   "source": [
    "import sys\n",
    "from os import listdir\n",
    "from os.path import isfile, join\n",
    "import string\n",
    "\n",
    "import numpy as np\n",
    "from plot_utils import plot_two_solutions\n",
    "import matplotlib.pyplot as plt \n",
    "\n",
    "from ioutils import parse_input\n",
    "from ioutils import parse_solutions\n",
    "from utils import get_distance_matrix\n",
    "from utils import get_discount_matrix\n",
    "from utils import allocate_paths\n",
    "from utils import get_nodes\n",
    "from utils import get_total_cost\n",
    "from utils import get_flow_from_paths\n",
    "import cplex_utils\n",
    "import graph_utils as graph_utils"
   ]
  },
  {
   "cell_type": "markdown",
   "metadata": {},
   "source": [
    "### Testing allocate_paths"
   ]
  },
  {
   "cell_type": "code",
   "execution_count": 2,
   "metadata": {},
   "outputs": [],
   "source": [
    "DATASET = 'AP'\n",
    "INPUT_DIRECTORY = \"./data/AP/generated/\""
   ]
  },
  {
   "cell_type": "code",
   "execution_count": 3,
   "metadata": {},
   "outputs": [
    {
     "name": "stdout",
     "output_type": "stream",
     "text": [
      "['./data/AP/generated/40.5', './data/AP/generated/10.3', './data/AP/generated/50.8', './data/AP/generated/25.8', './data/AP/generated/100.8', './data/AP/generated/200.8', './data/AP/generated/100.4', './data/AP/generated/20.8', './data/AP/generated/50.4', './data/AP/generated/15.4', './data/AP/generated/15.3', './data/AP/generated/20.3', './data/AP/generated/20.2', './data/AP/generated/40.8', './data/AP/generated/200.2', './data/AP/generated/10.8', './data/AP/generated/50.3', './data/AP/generated/200.5', './data/AP/generated/25.5', './data/AP/generated/10.2', './data/AP/generated/200.4', './data/AP/generated/50.2', './data/AP/generated/100.2', './data/AP/generated/40.2', './data/AP/generated/20.4', './data/AP/generated/40.4', './data/AP/generated/25.2', './data/AP/generated/50.5', './data/AP/generated/15.5', './data/AP/generated/25.3', './data/AP/generated/10.5', './data/AP/generated/100.3', './data/AP/generated/15.2', './data/AP/generated/200.3', './data/AP/generated/100.5', './data/AP/generated/10.4', './data/AP/generated/40.3', './data/AP/generated/20.5', './data/AP/generated/25.4', './data/AP/generated/15.8']\n",
      "./data/AP/generated/10.3\n"
     ]
    }
   ],
   "source": [
    "files = [join(INPUT_DIRECTORY, f) for f in listdir(INPUT_DIRECTORY) if isfile(join(INPUT_DIRECTORY, f))]\n",
    "print(files)\n",
    "file = files[1]\n",
    "print(file)"
   ]
  },
  {
   "cell_type": "code",
   "execution_count": 4,
   "metadata": {},
   "outputs": [],
   "source": [
    "n, p, alpha, delta, ksi, nodes_coordinates, demand = parse_input(file, DATASET)\n",
    "nodes = get_nodes(n)\n",
    "distances = get_distance_matrix(nodes_coordinates)"
   ]
  },
  {
   "cell_type": "code",
   "execution_count": 5,
   "metadata": {},
   "outputs": [
    {
     "name": "stderr",
     "output_type": "stream",
     "text": [
      "[2023-08-21 18:40:26,732] Created model M\n",
      "[2023-08-21 18:40:26,757] Defined variables X\n",
      "[2023-08-21 18:40:26,782] Defined variables Y\n",
      "[2023-08-21 18:40:26,785] Defined variables Z\n",
      "[2023-08-21 18:40:26,786] Defined variables H\n",
      "[2023-08-21 18:40:26,787] Defined constraints (2)\n",
      "[2023-08-21 18:40:26,789] Defined constraints (3)\n",
      "[2023-08-21 18:40:26,797] Defined constraints (4)\n",
      "[2023-08-21 18:40:26,813] Defined constraints (5)\n"
     ]
    },
    {
     "name": "stderr",
     "output_type": "stream",
     "text": [
      "[2023-08-21 18:40:26,830] Defined constraints (6)\n",
      "[2023-08-21 18:40:26,847] Defined constraints (7)\n",
      "[2023-08-21 18:40:26,863] Defined constraints (1)\n"
     ]
    },
    {
     "name": "stdout",
     "output_type": "stream",
     "text": [
      "Version identifier: 22.1.1.0 | 2022-11-28 | 9160aff4d\n",
      "CPXPARAM_Read_DataCheck                          1\n",
      "Tried aggregator 1 time.\n",
      "MIP Presolve eliminated 0 rows and 100 columns.\n",
      "Reduced MIP has 411 rows, 2010 columns, and 5310 nonzeros.\n",
      "Reduced MIP has 10 binaries, 0 generals, 0 SOSs, and 0 indicators.\n",
      "Presolve time = 0.01 sec. (1.62 ticks)\n",
      "Found incumbent of value 5.4035881e+08 after 0.01 sec. (3.81 ticks)\n",
      "Probing time = 0.00 sec. (0.13 ticks)\n",
      "Tried aggregator 1 time.\n",
      "Detecting symmetries...\n",
      "Reduced MIP has 411 rows, 2010 columns, and 5310 nonzeros.\n",
      "Reduced MIP has 10 binaries, 0 generals, 0 SOSs, and 0 indicators.\n",
      "Presolve time = 0.00 sec. (2.04 ticks)\n",
      "Probing time = 0.00 sec. (0.13 ticks)\n",
      "MIP emphasis: balance optimality and feasibility.\n",
      "MIP search method: dynamic search.\n",
      "Parallel mode: deterministic, using up to 4 threads.\n",
      "Root relaxation solution time = 0.01 sec. (4.54 ticks)\n",
      "\n",
      "        Nodes                                         Cuts/\n",
      "   Node  Left     Objective  IInf  Best Integer    Best Bound    ItCnt     Gap\n",
      "\n",
      "*     0+    0                       5.40359e+08        0.0000           100.00%\n",
      "      0     0   1.24069e+08     5   5.40359e+08   1.24069e+08      376   77.04%\n",
      "*     0+    0                       1.31582e+08   1.24069e+08             5.71%\n",
      "      0     0   1.30380e+08     7   1.31582e+08     Cuts: 187      610    0.91%\n",
      "      0     0   1.31082e+08     4   1.31582e+08     Cuts: 202      704    0.38%\n",
      "      0     0   1.31335e+08     5   1.31582e+08      Cuts: 81      794    0.19%\n",
      "      0     0   1.31412e+08     4   1.31582e+08     Cuts: 101      840    0.13%\n",
      "      0     0   1.31476e+08     4   1.31582e+08      Cuts: 24      860    0.08%\n",
      "Detecting symmetries...\n",
      "      0     0   1.31477e+08     4   1.31582e+08      Cuts: 13      863    0.08%\n",
      "*     0+    0                       1.31582e+08   1.31477e+08             0.08%\n",
      "      0     0        cutoff         1.31582e+08   1.31582e+08      863    0.00%\n",
      "Elapsed time = 0.16 sec. (102.06 ticks, tree = 0.01 MB, solutions = 2)\n",
      "\n",
      "Implied bound cuts applied:  105\n",
      "Flow cuts applied:  29\n",
      "Mixed integer rounding cuts applied:  109\n",
      "Multi commodity flow cuts applied:  5\n",
      "Lift and project cuts applied:  1\n",
      "Gomory fractional cuts applied:  1\n",
      "\n",
      "Root node processing (before b&c):\n",
      "  Real time             =    0.17 sec. (102.18 ticks)\n",
      "Parallel b&c, 4 threads:\n",
      "  Real time             =    0.00 sec. (0.00 ticks)\n",
      "  Sync time (average)   =    0.00 sec.\n",
      "  Wait time (average)   =    0.00 sec.\n",
      "                          ------------\n",
      "Total (root+branch&cut) =    0.17 sec. (102.18 ticks)\n"
     ]
    }
   ],
   "source": [
    "M, X, Y, Z, H = cplex_utils.get_umaphmp_model(n, p, alpha, delta, ksi, distances, demand, formulation='EK', verbose=True)\n",
    "solution = M.solve(log_output=True)\n",
    "hubs_bit_mask = [int(solution.get_var_value(H[i])) for i in range(n)]\n",
    "cplex_objective = round(solution.objective_value, 7)"
   ]
  },
  {
   "cell_type": "code",
   "execution_count": 6,
   "metadata": {},
   "outputs": [],
   "source": [
    "Z_allocated = {(i,k): solution.get_var_value(Z[i,k]) for i in range(n) for k in range(n)}\n",
    "X_allocated = {(i,l,j): solution.get_var_value(X[i,l,j]) for i in range(n) for l in range(n) for j in range(n)}\n",
    "Y_allocated = {(i,k,l): solution.get_var_value(Y[i,k,l]) for i in range(n) for k in range(n) for l in range(n)}\n",
    "cplex_flow = cplex_utils.get_flow_from_XYZ(n, X_allocated, Y_allocated, Z_allocated)"
   ]
  },
  {
   "cell_type": "code",
   "execution_count": 7,
   "metadata": {},
   "outputs": [
    {
     "data": {
      "text/plain": [
       "array([2, 6, 7])"
      ]
     },
     "execution_count": 7,
     "metadata": {},
     "output_type": "execute_result"
    }
   ],
   "source": [
    "hubs, = np.where(hubs_bit_mask)\n",
    "hubs"
   ]
  },
  {
   "cell_type": "code",
   "execution_count": 8,
   "metadata": {},
   "outputs": [],
   "source": [
    "discounts = get_discount_matrix(n, hubs, alpha, delta, ksi)"
   ]
  },
  {
   "cell_type": "code",
   "execution_count": 9,
   "metadata": {},
   "outputs": [],
   "source": [
    "paths = allocate_paths(n, hubs, distances, discounts)"
   ]
  },
  {
   "cell_type": "code",
   "execution_count": 10,
   "metadata": {},
   "outputs": [],
   "source": [
    "vns_flow = get_flow_from_paths(n, paths, demand)"
   ]
  },
  {
   "cell_type": "code",
   "execution_count": 11,
   "metadata": {},
   "outputs": [
    {
     "data": {
      "image/png": "[encoded data removed]",
      "text/plain": [
       "<Figure size 1000x500 with 2 Axes>"
      ]
     },
     "metadata": {},
     "output_type": "display_data"
    }
   ],
   "source": [
    "plot_two_solutions(nodes_coordinates, \n",
    "                   hubs_bit_mask, \n",
    "                   hubs_bit_mask, \n",
    "                   cplex_flow, \n",
    "                   vns_flow,  \n",
    "                   title1=\"CPLEX solution\",\n",
    "                   title2=\"VNS solution\",\n",
    "                   point_labels='numbers', plot_all_lines=False, verbose=0)"
   ]
  },
  {
   "cell_type": "code",
   "execution_count": 12,
   "metadata": {},
   "outputs": [
    {
     "data": {
      "text/plain": [
       "2.2737367544323206e-13"
      ]
     },
     "execution_count": 12,
     "metadata": {},
     "output_type": "execute_result"
    }
   ],
   "source": [
    "# todo: AP/10.3: why cplex flow (graph on the left) contains non-hub - non-hub edge 3-5 ???\n",
    "#   because we got some very small non-zero number => we should drop some decimals!\n",
    "cplex_flow[5,3]"
   ]
  },
  {
   "cell_type": "code",
   "execution_count": 13,
   "metadata": {},
   "outputs": [
    {
     "data": {
      "image/png": "[encoded data removed]",
      "text/plain": [
       "<Figure size 1000x500 with 2 Axes>"
      ]
     },
     "metadata": {},
     "output_type": "display_data"
    }
   ],
   "source": [
    "# if I choose that edge tickness represents flow (verbose=2) it's not visible\n",
    "plot_two_solutions(nodes_coordinates, \n",
    "                   hubs_bit_mask, \n",
    "                   hubs_bit_mask, \n",
    "                   cplex_flow, \n",
    "                   vns_flow,  \n",
    "                   title1=\"CPLEX solution\",\n",
    "                   title2=\"VNS solution\",\n",
    "                   point_labels='numbers', plot_all_lines=False, verbose=2)"
   ]
  },
  {
   "cell_type": "code",
   "execution_count": 14,
   "metadata": {},
   "outputs": [
    {
     "data": {
      "text/plain": [
       "131581786.946515"
      ]
     },
     "execution_count": 14,
     "metadata": {},
     "output_type": "execute_result"
    }
   ],
   "source": [
    "get_total_cost(vns_flow, distances, discounts)"
   ]
  },
  {
   "cell_type": "code",
   "execution_count": 15,
   "metadata": {},
   "outputs": [
    {
     "data": {
      "text/plain": [
       "131581786.94651498"
      ]
     },
     "execution_count": 15,
     "metadata": {},
     "output_type": "execute_result"
    }
   ],
   "source": [
    "get_total_cost(cplex_flow, distances, discounts)"
   ]
  },
  {
   "cell_type": "code",
   "execution_count": 16,
   "metadata": {},
   "outputs": [
    {
     "data": {
      "text/plain": [
       "131581786.946515"
      ]
     },
     "execution_count": 16,
     "metadata": {},
     "output_type": "execute_result"
    }
   ],
   "source": [
    "cplex_objective"
   ]
  },
  {
   "cell_type": "markdown",
   "metadata": {},
   "source": [
    "### Implementing VNS algorithm framework"
   ]
  },
  {
   "cell_type": "code",
   "execution_count": 17,
   "metadata": {},
   "outputs": [],
   "source": [
    "from vns import basic_VNS\n",
    "\n",
    "from utils import ProblemInstance\n",
    "from utils import Solution\n",
    "from utils  import get_flow_from_hubs"
   ]
  },
  {
   "cell_type": "code",
   "execution_count": 18,
   "metadata": {},
   "outputs": [],
   "source": [
    "MAX_ITER = 200"
   ]
  },
  {
   "cell_type": "markdown",
   "metadata": {},
   "source": [
    "#### Testing"
   ]
  },
  {
   "cell_type": "code",
   "execution_count": 19,
   "metadata": {},
   "outputs": [
    {
     "name": "stdout",
     "output_type": "stream",
     "text": [
      "['./data/AP/generated/40.5', './data/AP/generated/10.3', './data/AP/generated/50.8', './data/AP/generated/25.8', './data/AP/generated/100.8', './data/AP/generated/200.8', './data/AP/generated/100.4', './data/AP/generated/20.8', './data/AP/generated/50.4', './data/AP/generated/15.4', './data/AP/generated/15.3', './data/AP/generated/20.3', './data/AP/generated/20.2', './data/AP/generated/40.8', './data/AP/generated/200.2', './data/AP/generated/10.8', './data/AP/generated/50.3', './data/AP/generated/200.5', './data/AP/generated/25.5', './data/AP/generated/10.2', './data/AP/generated/200.4', './data/AP/generated/50.2', './data/AP/generated/100.2', './data/AP/generated/40.2', './data/AP/generated/20.4', './data/AP/generated/40.4', './data/AP/generated/25.2', './data/AP/generated/50.5', './data/AP/generated/15.5', './data/AP/generated/25.3', './data/AP/generated/10.5', './data/AP/generated/100.3', './data/AP/generated/15.2', './data/AP/generated/200.3', './data/AP/generated/100.5', './data/AP/generated/10.4', './data/AP/generated/40.3', './data/AP/generated/20.5', './data/AP/generated/25.4', './data/AP/generated/15.8']\n",
      "./data/AP/generated/10.3\n"
     ]
    }
   ],
   "source": [
    "files = [join(INPUT_DIRECTORY, f) for f in listdir(INPUT_DIRECTORY) if isfile(join(INPUT_DIRECTORY, f))]\n",
    "print(files)\n",
    "file = files[1]\n",
    "print(file)"
   ]
  },
  {
   "cell_type": "code",
   "execution_count": 20,
   "metadata": {},
   "outputs": [],
   "source": [
    "n, p, alpha, delta, ksi, node_coordinates, demand = parse_input(file, DATASET)\n",
    "problem = ProblemInstance(n, p, alpha, delta, ksi, node_coordinates, demand)"
   ]
  },
  {
   "cell_type": "code",
   "execution_count": 21,
   "metadata": {},
   "outputs": [],
   "source": [
    "vns_solution = basic_VNS(problem, use_c=False)"
   ]
  },
  {
   "cell_type": "code",
   "execution_count": 22,
   "metadata": {},
   "outputs": [
    {
     "name": "stdout",
     "output_type": "stream",
     "text": [
      "[6, 2, 7]\n",
      "131581786.94651498\n"
     ]
    }
   ],
   "source": [
    "print(vns_solution.hubs)\n",
    "print(vns_solution.cost)"
   ]
  },
  {
   "cell_type": "code",
   "execution_count": 23,
   "metadata": {},
   "outputs": [],
   "source": [
    "flow = get_flow_from_hubs(\n",
    "    vns_solution.hubs, \n",
    "    problem.n, \n",
    "    problem.alpha, \n",
    "    problem.delta, \n",
    "    problem.ksi, \n",
    "    problem.distances, \n",
    "    problem.demand)"
   ]
  },
  {
   "cell_type": "code",
   "execution_count": 24,
   "metadata": {},
   "outputs": [],
   "source": [
    "from plot_utils import plot_solution\n",
    "from utils import bitmap"
   ]
  },
  {
   "cell_type": "code",
   "execution_count": 25,
   "metadata": {},
   "outputs": [
    {
     "data": {
      "image/png": "[encoded data removed]",
      "text/plain": [
       "<Figure size 600x600 with 1 Axes>"
      ]
     },
     "metadata": {},
     "output_type": "display_data"
    }
   ],
   "source": [
    "plot_solution(node_coordinates, bitmap(n, vns_solution.hubs), flow, point_labels='numbers', plot_all_lines=False, verbose=2)"
   ]
  },
  {
   "cell_type": "markdown",
   "metadata": {},
   "source": [
    "#### Display comparison with state of the art"
   ]
  },
  {
   "cell_type": "code",
   "execution_count": 26,
   "metadata": {},
   "outputs": [],
   "source": [
    "from utils import get_comparison_table\n",
    "from ioutils import get_comparison_table_file_name\n",
    "from utils import get_latest_commit_id\n",
    "\n",
    "import pandas as pd\n",
    "pd.set_option('display.max_rows', 500)"
   ]
  },
  {
   "cell_type": "code",
   "execution_count": 27,
   "metadata": {},
   "outputs": [],
   "source": [
    "SOLUTIONS_FILE = '/home/ubuntu/VNS_for_UMApHMP/data/AP/Solutions-UMApHMP.txt'\n",
    "NUMBER_OF_PROBLEMS = 0\n",
    "LATEST_COMMIT_ID = get_latest_commit_id()\n",
    "OUTPUT_FILE_NAME = get_comparison_table_file_name('comparison_with_optimal', str(NUMBER_OF_PROBLEMS), LATEST_COMMIT_ID)"
   ]
  },
  {
   "cell_type": "code",
   "execution_count": 28,
   "metadata": {},
   "outputs": [
    {
     "name": "stderr",
     "output_type": "stream",
     "text": [
      "0it [00:00, ?it/s]\n"
     ]
    }
   ],
   "source": [
    "comparison_table = get_comparison_table([basic_VNS], NUMBER_OF_PROBLEMS, DATASET, INPUT_DIRECTORY, SOLUTIONS_FILE)\n",
    "comparison_table.to_csv(OUTPUT_FILE_NAME, index_label='problem')"
   ]
  },
  {
   "cell_type": "code",
   "execution_count": 29,
   "metadata": {},
   "outputs": [
    {
     "data": {
      "text/html": [
       "<div>\n",
       "<style scoped>\n",
       "    .dataframe tbody tr th:only-of-type {\n",
       "        vertical-align: middle;\n",
       "    }\n",
       "\n",
       "    .dataframe tbody tr th {\n",
       "        vertical-align: top;\n",
       "    }\n",
       "\n",
       "    .dataframe thead th {\n",
       "        text-align: right;\n",
       "    }\n",
       "</style>\n",
       "<table border=\"1\" class=\"dataframe\">\n",
       "  <thead>\n",
       "    <tr style=\"text-align: right;\">\n",
       "      <th></th>\n",
       "      <th>optimal solution</th>\n",
       "      <th>basic_VNS - solution</th>\n",
       "      <th>basic_VNS - deviation (%)</th>\n",
       "      <th>basic_VNS - time (s)</th>\n",
       "    </tr>\n",
       "  </thead>\n",
       "  <tbody>\n",
       "  </tbody>\n",
       "</table>\n",
       "</div>"
      ],
      "text/plain": [
       "Empty DataFrame\n",
       "Columns: [optimal solution, basic_VNS - solution, basic_VNS - deviation (%), basic_VNS - time (s)]\n",
       "Index: []"
      ]
     },
     "execution_count": 29,
     "metadata": {},
     "output_type": "execute_result"
    }
   ],
   "source": [
    "comparison_table.head(NUMBER_OF_PROBLEMS)"
   ]
  },
  {
   "cell_type": "markdown",
   "metadata": {},
   "source": [
    "### Experimentation"
   ]
  },
  {
   "cell_type": "markdown",
   "metadata": {},
   "source": [
    "#### 1. Shaking intensity"
   ]
  },
  {
   "cell_type": "code",
   "execution_count": 30,
   "metadata": {},
   "outputs": [],
   "source": [
    "NUMBER_OF_PROBLEMS = 0\n",
    "OUTPUT_FILE_NAME = get_comparison_table_file_name('diversification', str(NUMBER_OF_PROBLEMS), LATEST_COMMIT_ID)"
   ]
  },
  {
   "cell_type": "code",
   "execution_count": 31,
   "metadata": {},
   "outputs": [],
   "source": [
    "def basic_VNS_divers_0_1(problem):\n",
    "    return basic_VNS(problem, 0.1)\n",
    "\n",
    "def basic_VNS_divers_0_2(problem):\n",
    "    return basic_VNS(problem, 0.2)\n",
    "\n",
    "def basic_VNS_divers_0_5(problem):\n",
    "    return basic_VNS(problem, 0.5)\n",
    "\n",
    "def basic_VNS_divers_1(problem):\n",
    "    return basic_VNS(problem, 1)"
   ]
  },
  {
   "cell_type": "code",
   "execution_count": 32,
   "metadata": {},
   "outputs": [
    {
     "name": "stderr",
     "output_type": "stream",
     "text": [
      "0it [00:00, ?it/s]\n"
     ]
    }
   ],
   "source": [
    "comparison_table = get_comparison_table(\n",
    "    [basic_VNS, basic_VNS_divers_0_1, basic_VNS_divers_0_2, basic_VNS_divers_0_5, basic_VNS_divers_1], \n",
    "    NUMBER_OF_PROBLEMS, DATASET, INPUT_DIRECTORY, SOLUTIONS_FILE)"
   ]
  },
  {
   "cell_type": "code",
   "execution_count": 33,
   "metadata": {},
   "outputs": [
    {
     "data": {
      "text/html": [
       "<div>\n",
       "<style scoped>\n",
       "    .dataframe tbody tr th:only-of-type {\n",
       "        vertical-align: middle;\n",
       "    }\n",
       "\n",
       "    .dataframe tbody tr th {\n",
       "        vertical-align: top;\n",
       "    }\n",
       "\n",
       "    .dataframe thead th {\n",
       "        text-align: right;\n",
       "    }\n",
       "</style>\n",
       "<table border=\"1\" class=\"dataframe\">\n",
       "  <thead>\n",
       "    <tr style=\"text-align: right;\">\n",
       "      <th></th>\n",
       "      <th>optimal solution</th>\n",
       "      <th>basic_VNS - solution</th>\n",
       "      <th>basic_VNS - deviation (%)</th>\n",
       "      <th>basic_VNS - time (s)</th>\n",
       "      <th>basic_VNS_divers_0_1 - solution</th>\n",
       "      <th>basic_VNS_divers_0_1 - deviation (%)</th>\n",
       "      <th>basic_VNS_divers_0_1 - time (s)</th>\n",
       "      <th>basic_VNS_divers_0_2 - solution</th>\n",
       "      <th>basic_VNS_divers_0_2 - deviation (%)</th>\n",
       "      <th>basic_VNS_divers_0_2 - time (s)</th>\n",
       "      <th>basic_VNS_divers_0_5 - solution</th>\n",
       "      <th>basic_VNS_divers_0_5 - deviation (%)</th>\n",
       "      <th>basic_VNS_divers_0_5 - time (s)</th>\n",
       "      <th>basic_VNS_divers_1 - solution</th>\n",
       "      <th>basic_VNS_divers_1 - deviation (%)</th>\n",
       "      <th>basic_VNS_divers_1 - time (s)</th>\n",
       "    </tr>\n",
       "  </thead>\n",
       "  <tbody>\n",
       "  </tbody>\n",
       "</table>\n",
       "</div>"
      ],
      "text/plain": [
       "Empty DataFrame\n",
       "Columns: [optimal solution, basic_VNS - solution, basic_VNS - deviation (%), basic_VNS - time (s), basic_VNS_divers_0_1 - solution, basic_VNS_divers_0_1 - deviation (%), basic_VNS_divers_0_1 - time (s), basic_VNS_divers_0_2 - solution, basic_VNS_divers_0_2 - deviation (%), basic_VNS_divers_0_2 - time (s), basic_VNS_divers_0_5 - solution, basic_VNS_divers_0_5 - deviation (%), basic_VNS_divers_0_5 - time (s), basic_VNS_divers_1 - solution, basic_VNS_divers_1 - deviation (%), basic_VNS_divers_1 - time (s)]\n",
       "Index: []"
      ]
     },
     "execution_count": 33,
     "metadata": {},
     "output_type": "execute_result"
    }
   ],
   "source": [
    "comparison_table.head(NUMBER_OF_PROBLEMS)"
   ]
  },
  {
   "cell_type": "code",
   "execution_count": 34,
   "metadata": {},
   "outputs": [],
   "source": [
    "comparison_table.to_csv(OUTPUT_FILE_NAME, index_label='problem')"
   ]
  },
  {
   "cell_type": "markdown",
   "metadata": {},
   "source": [
    "#### 2. Initial solution"
   ]
  },
  {
   "cell_type": "code",
   "execution_count": 35,
   "metadata": {},
   "outputs": [],
   "source": [
    "from vns import get_initial_solution_median\n",
    "from vns import get_initial_solution_robust"
   ]
  },
  {
   "cell_type": "code",
   "execution_count": 36,
   "metadata": {},
   "outputs": [],
   "source": [
    "NUMBER_OF_PROBLEMS = 0\n",
    "OUTPUT_FILE_NAME = get_comparison_table_file_name('initial_solution', str(NUMBER_OF_PROBLEMS), LATEST_COMMIT_ID)"
   ]
  },
  {
   "cell_type": "code",
   "execution_count": 37,
   "metadata": {},
   "outputs": [],
   "source": [
    "def basic_VNS_median_init(problem):\n",
    "    return basic_VNS(problem, initialization_method=get_initial_solution_median)\n",
    "\n",
    "def basic_VNS_robust_init(problem):\n",
    "    return basic_VNS(problem, initialization_method=get_initial_solution_robust)"
   ]
  },
  {
   "cell_type": "code",
   "execution_count": 38,
   "metadata": {},
   "outputs": [
    {
     "name": "stderr",
     "output_type": "stream",
     "text": [
      "0it [00:00, ?it/s]\n"
     ]
    }
   ],
   "source": [
    "comparison_table = get_comparison_table(\n",
    "    [basic_VNS_robust_init, basic_VNS_median_init], \n",
    "    NUMBER_OF_PROBLEMS, DATASET, INPUT_DIRECTORY, SOLUTIONS_FILE)"
   ]
  },
  {
   "cell_type": "code",
   "execution_count": 39,
   "metadata": {},
   "outputs": [
    {
     "data": {
      "text/html": [
       "<div>\n",
       "<style scoped>\n",
       "    .dataframe tbody tr th:only-of-type {\n",
       "        vertical-align: middle;\n",
       "    }\n",
       "\n",
       "    .dataframe tbody tr th {\n",
       "        vertical-align: top;\n",
       "    }\n",
       "\n",
       "    .dataframe thead th {\n",
       "        text-align: right;\n",
       "    }\n",
       "</style>\n",
       "<table border=\"1\" class=\"dataframe\">\n",
       "  <thead>\n",
       "    <tr style=\"text-align: right;\">\n",
       "      <th></th>\n",
       "      <th>optimal solution</th>\n",
       "      <th>basic_VNS_robust_init - solution</th>\n",
       "      <th>basic_VNS_robust_init - deviation (%)</th>\n",
       "      <th>basic_VNS_robust_init - time (s)</th>\n",
       "      <th>basic_VNS_median_init - solution</th>\n",
       "      <th>basic_VNS_median_init - deviation (%)</th>\n",
       "      <th>basic_VNS_median_init - time (s)</th>\n",
       "    </tr>\n",
       "  </thead>\n",
       "  <tbody>\n",
       "  </tbody>\n",
       "</table>\n",
       "</div>"
      ],
      "text/plain": [
       "Empty DataFrame\n",
       "Columns: [optimal solution, basic_VNS_robust_init - solution, basic_VNS_robust_init - deviation (%), basic_VNS_robust_init - time (s), basic_VNS_median_init - solution, basic_VNS_median_init - deviation (%), basic_VNS_median_init - time (s)]\n",
       "Index: []"
      ]
     },
     "execution_count": 39,
     "metadata": {},
     "output_type": "execute_result"
    }
   ],
   "source": [
    "comparison_table.head(NUMBER_OF_PROBLEMS)"
   ]
  },
  {
   "cell_type": "code",
   "execution_count": 40,
   "metadata": {},
   "outputs": [],
   "source": [
    "comparison_table.to_csv(OUTPUT_FILE_NAME, index_label='problem')"
   ]
  },
  {
   "cell_type": "markdown",
   "metadata": {},
   "source": [
    "#### 3. Local search"
   ]
  },
  {
   "cell_type": "code",
   "execution_count": 41,
   "metadata": {},
   "outputs": [],
   "source": [
    "from vns import local_search_best_improvement\n",
    "from vns import local_search_first_improvement"
   ]
  },
  {
   "cell_type": "code",
   "execution_count": 42,
   "metadata": {},
   "outputs": [],
   "source": [
    "NUMBER_OF_PROBLEMS = 0\n",
    "OUTPUT_FILE_NAME = get_comparison_table_file_name('local_search', str(NUMBER_OF_PROBLEMS), LATEST_COMMIT_ID)"
   ]
  },
  {
   "cell_type": "code",
   "execution_count": 43,
   "metadata": {},
   "outputs": [],
   "source": [
    "def basic_VNS_best_improvement(problem):\n",
    "    return basic_VNS(problem, local_search=local_search_best_improvement)\n",
    "\n",
    "def basic_VNS_first_improvement(problem):\n",
    "    return basic_VNS(problem, local_search=local_search_first_improvement)"
   ]
  },
  {
   "cell_type": "code",
   "execution_count": 44,
   "metadata": {},
   "outputs": [
    {
     "name": "stderr",
     "output_type": "stream",
     "text": [
      "0it [00:00, ?it/s]\n"
     ]
    }
   ],
   "source": [
    "comparison_table = get_comparison_table(\n",
    "    [basic_VNS_best_improvement, basic_VNS_first_improvement], \n",
    "    NUMBER_OF_PROBLEMS, DATASET, INPUT_DIRECTORY, SOLUTIONS_FILE)"
   ]
  },
  {
   "cell_type": "code",
   "execution_count": 45,
   "metadata": {},
   "outputs": [
    {
     "data": {
      "text/html": [
       "<div>\n",
       "<style scoped>\n",
       "    .dataframe tbody tr th:only-of-type {\n",
       "        vertical-align: middle;\n",
       "    }\n",
       "\n",
       "    .dataframe tbody tr th {\n",
       "        vertical-align: top;\n",
       "    }\n",
       "\n",
       "    .dataframe thead th {\n",
       "        text-align: right;\n",
       "    }\n",
       "</style>\n",
       "<table border=\"1\" class=\"dataframe\">\n",
       "  <thead>\n",
       "    <tr style=\"text-align: right;\">\n",
       "      <th></th>\n",
       "      <th>optimal solution</th>\n",
       "      <th>basic_VNS_best_improvement - solution</th>\n",
       "      <th>basic_VNS_best_improvement - deviation (%)</th>\n",
       "      <th>basic_VNS_best_improvement - time (s)</th>\n",
       "      <th>basic_VNS_first_improvement - solution</th>\n",
       "      <th>basic_VNS_first_improvement - deviation (%)</th>\n",
       "      <th>basic_VNS_first_improvement - time (s)</th>\n",
       "    </tr>\n",
       "  </thead>\n",
       "  <tbody>\n",
       "  </tbody>\n",
       "</table>\n",
       "</div>"
      ],
      "text/plain": [
       "Empty DataFrame\n",
       "Columns: [optimal solution, basic_VNS_best_improvement - solution, basic_VNS_best_improvement - deviation (%), basic_VNS_best_improvement - time (s), basic_VNS_first_improvement - solution, basic_VNS_first_improvement - deviation (%), basic_VNS_first_improvement - time (s)]\n",
       "Index: []"
      ]
     },
     "execution_count": 45,
     "metadata": {},
     "output_type": "execute_result"
    }
   ],
   "source": [
    "comparison_table.head(NUMBER_OF_PROBLEMS)"
   ]
  },
  {
   "cell_type": "code",
   "execution_count": 46,
   "metadata": {},
   "outputs": [],
   "source": [
    "comparison_table.to_csv(OUTPUT_FILE_NAME, index_label='problem')"
   ]
  },
  {
   "cell_type": "markdown",
   "metadata": {},
   "source": [
    "This looks like very nice eifficiency imrpovement!\n",
    "Now we need to adjust MAX_ITER, since some solutions are not optimal in 25 iterations. "
   ]
  },
  {
   "cell_type": "markdown",
   "metadata": {},
   "source": [
    "#### 4. Implement the most critical parts in C"
   ]
  },
  {
   "cell_type": "markdown",
   "metadata": {},
   "source": [
    "We moved `get_solution_cost` into C."
   ]
  },
  {
   "cell_type": "code",
   "execution_count": 47,
   "metadata": {},
   "outputs": [],
   "source": [
    "NUMBER_OF_PROBLEMS = 25\n",
    "OUTPUT_FILE_NAME = get_comparison_table_file_name('using_c', str(NUMBER_OF_PROBLEMS), LATEST_COMMIT_ID)"
   ]
  },
  {
   "cell_type": "code",
   "execution_count": 48,
   "metadata": {},
   "outputs": [],
   "source": [
    "def basic_VNS_with_parts_in_C(problem):\n",
    "    return basic_VNS(problem, use_c=True)"
   ]
  },
  {
   "cell_type": "code",
   "execution_count": 49,
   "metadata": {},
   "outputs": [
    {
     "name": "stderr",
     "output_type": "stream",
     "text": [
      "  0%|          | 0/25 [00:00<?, ?it/s]"
     ]
    },
    {
     "name": "stderr",
     "output_type": "stream",
     "text": [
      "100%|██████████| 25/25 [03:57<00:00,  9.51s/it]\n"
     ]
    }
   ],
   "source": [
    "comparison_table = get_comparison_table(\n",
    "    [basic_VNS, basic_VNS_with_parts_in_C], \n",
    "    NUMBER_OF_PROBLEMS, DATASET, INPUT_DIRECTORY, SOLUTIONS_FILE)"
   ]
  },
  {
   "cell_type": "code",
   "execution_count": 50,
   "metadata": {},
   "outputs": [
    {
     "data": {
      "text/html": [
       "<div>\n",
       "<style scoped>\n",
       "    .dataframe tbody tr th:only-of-type {\n",
       "        vertical-align: middle;\n",
       "    }\n",
       "\n",
       "    .dataframe tbody tr th {\n",
       "        vertical-align: top;\n",
       "    }\n",
       "\n",
       "    .dataframe thead th {\n",
       "        text-align: right;\n",
       "    }\n",
       "</style>\n",
       "<table border=\"1\" class=\"dataframe\">\n",
       "  <thead>\n",
       "    <tr style=\"text-align: right;\">\n",
       "      <th></th>\n",
       "      <th>optimal solution</th>\n",
       "      <th>basic_VNS - solution</th>\n",
       "      <th>basic_VNS - deviation (%)</th>\n",
       "      <th>basic_VNS - time (s)</th>\n",
       "      <th>basic_VNS_with_parts_in_C - solution</th>\n",
       "      <th>basic_VNS_with_parts_in_C - deviation (%)</th>\n",
       "      <th>basic_VNS_with_parts_in_C - time (s)</th>\n",
       "    </tr>\n",
       "  </thead>\n",
       "  <tbody>\n",
       "    <tr>\n",
       "      <th>10.2</th>\n",
       "      <td>163603.94</td>\n",
       "      <td>163603.943168</td>\n",
       "      <td>0.0</td>\n",
       "      <td>0.239806</td>\n",
       "      <td>163603.939352</td>\n",
       "      <td>0.0</td>\n",
       "      <td>0.018323</td>\n",
       "    </tr>\n",
       "    <tr>\n",
       "      <th>10.3</th>\n",
       "      <td>131581.79</td>\n",
       "      <td>131581.786947</td>\n",
       "      <td>0.0</td>\n",
       "      <td>0.310190</td>\n",
       "      <td>131581.782695</td>\n",
       "      <td>0.0</td>\n",
       "      <td>0.025893</td>\n",
       "    </tr>\n",
       "    <tr>\n",
       "      <th>10.4</th>\n",
       "      <td>107354.73</td>\n",
       "      <td>107354.729873</td>\n",
       "      <td>0.0</td>\n",
       "      <td>0.361431</td>\n",
       "      <td>107354.726587</td>\n",
       "      <td>0.0</td>\n",
       "      <td>0.031411</td>\n",
       "    </tr>\n",
       "    <tr>\n",
       "      <th>10.5</th>\n",
       "      <td>86028.88</td>\n",
       "      <td>86028.884330</td>\n",
       "      <td>0.0</td>\n",
       "      <td>0.352441</td>\n",
       "      <td>86028.881876</td>\n",
       "      <td>0.0</td>\n",
       "      <td>0.033858</td>\n",
       "    </tr>\n",
       "    <tr>\n",
       "      <th>10.8</th>\n",
       "      <td>NaN</td>\n",
       "      <td>54628.751330</td>\n",
       "      <td>NaN</td>\n",
       "      <td>0.204286</td>\n",
       "      <td>54628.749570</td>\n",
       "      <td>NaN</td>\n",
       "      <td>0.021793</td>\n",
       "    </tr>\n",
       "    <tr>\n",
       "      <th>15.2</th>\n",
       "      <td>NaN</td>\n",
       "      <td>167236.841808</td>\n",
       "      <td>NaN</td>\n",
       "      <td>0.770828</td>\n",
       "      <td>167236.836181</td>\n",
       "      <td>NaN</td>\n",
       "      <td>0.043816</td>\n",
       "    </tr>\n",
       "    <tr>\n",
       "      <th>15.3</th>\n",
       "      <td>NaN</td>\n",
       "      <td>147872.074743</td>\n",
       "      <td>NaN</td>\n",
       "      <td>1.117670</td>\n",
       "      <td>147872.069114</td>\n",
       "      <td>NaN</td>\n",
       "      <td>0.064671</td>\n",
       "    </tr>\n",
       "    <tr>\n",
       "      <th>15.4</th>\n",
       "      <td>NaN</td>\n",
       "      <td>128607.690962</td>\n",
       "      <td>NaN</td>\n",
       "      <td>1.376814</td>\n",
       "      <td>128607.684728</td>\n",
       "      <td>NaN</td>\n",
       "      <td>0.081286</td>\n",
       "    </tr>\n",
       "    <tr>\n",
       "      <th>15.5</th>\n",
       "      <td>NaN</td>\n",
       "      <td>111464.727152</td>\n",
       "      <td>NaN</td>\n",
       "      <td>1.552482</td>\n",
       "      <td>111464.721588</td>\n",
       "      <td>NaN</td>\n",
       "      <td>0.094213</td>\n",
       "    </tr>\n",
       "    <tr>\n",
       "      <th>15.8</th>\n",
       "      <td>NaN</td>\n",
       "      <td>78050.108362</td>\n",
       "      <td>NaN</td>\n",
       "      <td>1.775334</td>\n",
       "      <td>78050.103986</td>\n",
       "      <td>NaN</td>\n",
       "      <td>0.114408</td>\n",
       "    </tr>\n",
       "    <tr>\n",
       "      <th>20.2</th>\n",
       "      <td>168599.79</td>\n",
       "      <td>168599.786138</td>\n",
       "      <td>0.0</td>\n",
       "      <td>1.805304</td>\n",
       "      <td>168599.777337</td>\n",
       "      <td>0.0</td>\n",
       "      <td>0.075622</td>\n",
       "    </tr>\n",
       "    <tr>\n",
       "      <th>20.3</th>\n",
       "      <td>148048.30</td>\n",
       "      <td>148048.299258</td>\n",
       "      <td>0.0</td>\n",
       "      <td>2.745774</td>\n",
       "      <td>148048.290545</td>\n",
       "      <td>0.0</td>\n",
       "      <td>0.123596</td>\n",
       "    </tr>\n",
       "    <tr>\n",
       "      <th>20.4</th>\n",
       "      <td>131665.43</td>\n",
       "      <td>131665.430089</td>\n",
       "      <td>0.0</td>\n",
       "      <td>3.397476</td>\n",
       "      <td>131665.421149</td>\n",
       "      <td>0.0</td>\n",
       "      <td>0.159162</td>\n",
       "    </tr>\n",
       "    <tr>\n",
       "      <th>20.5</th>\n",
       "      <td>118934.97</td>\n",
       "      <td>118934.974458</td>\n",
       "      <td>0.0</td>\n",
       "      <td>4.111894</td>\n",
       "      <td>118934.966285</td>\n",
       "      <td>0.0</td>\n",
       "      <td>0.188838</td>\n",
       "    </tr>\n",
       "    <tr>\n",
       "      <th>20.8</th>\n",
       "      <td>NaN</td>\n",
       "      <td>91454.826100</td>\n",
       "      <td>NaN</td>\n",
       "      <td>5.368242</td>\n",
       "      <td>91454.819742</td>\n",
       "      <td>NaN</td>\n",
       "      <td>0.282295</td>\n",
       "    </tr>\n",
       "    <tr>\n",
       "      <th>25.2</th>\n",
       "      <td>171298.10</td>\n",
       "      <td>171298.095682</td>\n",
       "      <td>0.0</td>\n",
       "      <td>3.480792</td>\n",
       "      <td>171298.082869</td>\n",
       "      <td>0.0</td>\n",
       "      <td>0.125565</td>\n",
       "    </tr>\n",
       "    <tr>\n",
       "      <th>25.3</th>\n",
       "      <td>151080.66</td>\n",
       "      <td>151080.663062</td>\n",
       "      <td>0.0</td>\n",
       "      <td>5.364802</td>\n",
       "      <td>151080.650973</td>\n",
       "      <td>0.0</td>\n",
       "      <td>0.194391</td>\n",
       "    </tr>\n",
       "    <tr>\n",
       "      <th>25.4</th>\n",
       "      <td>135638.58</td>\n",
       "      <td>135638.580892</td>\n",
       "      <td>0.0</td>\n",
       "      <td>7.029927</td>\n",
       "      <td>135638.568846</td>\n",
       "      <td>0.0</td>\n",
       "      <td>0.280411</td>\n",
       "    </tr>\n",
       "    <tr>\n",
       "      <th>25.5</th>\n",
       "      <td>120581.99</td>\n",
       "      <td>120581.991736</td>\n",
       "      <td>0.0</td>\n",
       "      <td>9.159670</td>\n",
       "      <td>120581.980603</td>\n",
       "      <td>0.0</td>\n",
       "      <td>0.339788</td>\n",
       "    </tr>\n",
       "    <tr>\n",
       "      <th>25.8</th>\n",
       "      <td>NaN</td>\n",
       "      <td>97830.527609</td>\n",
       "      <td>NaN</td>\n",
       "      <td>12.781441</td>\n",
       "      <td>97795.578994</td>\n",
       "      <td>NaN</td>\n",
       "      <td>0.507835</td>\n",
       "    </tr>\n",
       "    <tr>\n",
       "      <th>40.2</th>\n",
       "      <td>173415.96</td>\n",
       "      <td>173415.963765</td>\n",
       "      <td>0.0</td>\n",
       "      <td>14.096552</td>\n",
       "      <td>173415.943816</td>\n",
       "      <td>0.0</td>\n",
       "      <td>0.398991</td>\n",
       "    </tr>\n",
       "    <tr>\n",
       "      <th>40.3</th>\n",
       "      <td>155458.61</td>\n",
       "      <td>155458.612132</td>\n",
       "      <td>0.0</td>\n",
       "      <td>22.200983</td>\n",
       "      <td>155458.593498</td>\n",
       "      <td>0.0</td>\n",
       "      <td>0.646404</td>\n",
       "    </tr>\n",
       "    <tr>\n",
       "      <th>40.4</th>\n",
       "      <td>140682.74</td>\n",
       "      <td>140682.739282</td>\n",
       "      <td>0.0</td>\n",
       "      <td>30.458055</td>\n",
       "      <td>140682.719684</td>\n",
       "      <td>0.0</td>\n",
       "      <td>0.868787</td>\n",
       "    </tr>\n",
       "    <tr>\n",
       "      <th>40.5</th>\n",
       "      <td>130384.74</td>\n",
       "      <td>130384.743389</td>\n",
       "      <td>0.0</td>\n",
       "      <td>38.463199</td>\n",
       "      <td>130384.724813</td>\n",
       "      <td>0.0</td>\n",
       "      <td>1.126760</td>\n",
       "    </tr>\n",
       "    <tr>\n",
       "      <th>40.8</th>\n",
       "      <td>NaN</td>\n",
       "      <td>109971.922330</td>\n",
       "      <td>NaN</td>\n",
       "      <td>61.316585</td>\n",
       "      <td>109971.904117</td>\n",
       "      <td>NaN</td>\n",
       "      <td>1.967085</td>\n",
       "    </tr>\n",
       "  </tbody>\n",
       "</table>\n",
       "</div>"
      ],
      "text/plain": [
       "      optimal solution  basic_VNS - solution  basic_VNS - deviation (%)  \\\n",
       "10.2         163603.94         163603.943168                        0.0   \n",
       "10.3         131581.79         131581.786947                        0.0   \n",
       "10.4         107354.73         107354.729873                        0.0   \n",
       "10.5          86028.88          86028.884330                        0.0   \n",
       "10.8               NaN          54628.751330                        NaN   \n",
       "15.2               NaN         167236.841808                        NaN   \n",
       "15.3               NaN         147872.074743                        NaN   \n",
       "15.4               NaN         128607.690962                        NaN   \n",
       "15.5               NaN         111464.727152                        NaN   \n",
       "15.8               NaN          78050.108362                        NaN   \n",
       "20.2         168599.79         168599.786138                        0.0   \n",
       "20.3         148048.30         148048.299258                        0.0   \n",
       "20.4         131665.43         131665.430089                        0.0   \n",
       "20.5         118934.97         118934.974458                        0.0   \n",
       "20.8               NaN          91454.826100                        NaN   \n",
       "25.2         171298.10         171298.095682                        0.0   \n",
       "25.3         151080.66         151080.663062                        0.0   \n",
       "25.4         135638.58         135638.580892                        0.0   \n",
       "25.5         120581.99         120581.991736                        0.0   \n",
       "25.8               NaN          97830.527609                        NaN   \n",
       "40.2         173415.96         173415.963765                        0.0   \n",
       "40.3         155458.61         155458.612132                        0.0   \n",
       "40.4         140682.74         140682.739282                        0.0   \n",
       "40.5         130384.74         130384.743389                        0.0   \n",
       "40.8               NaN         109971.922330                        NaN   \n",
       "\n",
       "      basic_VNS - time (s)  basic_VNS_with_parts_in_C - solution  \\\n",
       "10.2              0.239806                         163603.939352   \n",
       "10.3              0.310190                         131581.782695   \n",
       "10.4              0.361431                         107354.726587   \n",
       "10.5              0.352441                          86028.881876   \n",
       "10.8              0.204286                          54628.749570   \n",
       "15.2              0.770828                         167236.836181   \n",
       "15.3              1.117670                         147872.069114   \n",
       "15.4              1.376814                         128607.684728   \n",
       "15.5              1.552482                         111464.721588   \n",
       "15.8              1.775334                          78050.103986   \n",
       "20.2              1.805304                         168599.777337   \n",
       "20.3              2.745774                         148048.290545   \n",
       "20.4              3.397476                         131665.421149   \n",
       "20.5              4.111894                         118934.966285   \n",
       "20.8              5.368242                          91454.819742   \n",
       "25.2              3.480792                         171298.082869   \n",
       "25.3              5.364802                         151080.650973   \n",
       "25.4              7.029927                         135638.568846   \n",
       "25.5              9.159670                         120581.980603   \n",
       "25.8             12.781441                          97795.578994   \n",
       "40.2             14.096552                         173415.943816   \n",
       "40.3             22.200983                         155458.593498   \n",
       "40.4             30.458055                         140682.719684   \n",
       "40.5             38.463199                         130384.724813   \n",
       "40.8             61.316585                         109971.904117   \n",
       "\n",
       "      basic_VNS_with_parts_in_C - deviation (%)  \\\n",
       "10.2                                        0.0   \n",
       "10.3                                        0.0   \n",
       "10.4                                        0.0   \n",
       "10.5                                        0.0   \n",
       "10.8                                        NaN   \n",
       "15.2                                        NaN   \n",
       "15.3                                        NaN   \n",
       "15.4                                        NaN   \n",
       "15.5                                        NaN   \n",
       "15.8                                        NaN   \n",
       "20.2                                        0.0   \n",
       "20.3                                        0.0   \n",
       "20.4                                        0.0   \n",
       "20.5                                        0.0   \n",
       "20.8                                        NaN   \n",
       "25.2                                        0.0   \n",
       "25.3                                        0.0   \n",
       "25.4                                        0.0   \n",
       "25.5                                        0.0   \n",
       "25.8                                        NaN   \n",
       "40.2                                        0.0   \n",
       "40.3                                        0.0   \n",
       "40.4                                        0.0   \n",
       "40.5                                        0.0   \n",
       "40.8                                        NaN   \n",
       "\n",
       "      basic_VNS_with_parts_in_C - time (s)  \n",
       "10.2                              0.018323  \n",
       "10.3                              0.025893  \n",
       "10.4                              0.031411  \n",
       "10.5                              0.033858  \n",
       "10.8                              0.021793  \n",
       "15.2                              0.043816  \n",
       "15.3                              0.064671  \n",
       "15.4                              0.081286  \n",
       "15.5                              0.094213  \n",
       "15.8                              0.114408  \n",
       "20.2                              0.075622  \n",
       "20.3                              0.123596  \n",
       "20.4                              0.159162  \n",
       "20.5                              0.188838  \n",
       "20.8                              0.282295  \n",
       "25.2                              0.125565  \n",
       "25.3                              0.194391  \n",
       "25.4                              0.280411  \n",
       "25.5                              0.339788  \n",
       "25.8                              0.507835  \n",
       "40.2                              0.398991  \n",
       "40.3                              0.646404  \n",
       "40.4                              0.868787  \n",
       "40.5                              1.126760  \n",
       "40.8                              1.967085  "
      ]
     },
     "execution_count": 50,
     "metadata": {},
     "output_type": "execute_result"
    }
   ],
   "source": [
    "comparison_table.head(NUMBER_OF_PROBLEMS)"
   ]
  },
  {
   "cell_type": "code",
   "execution_count": 51,
   "metadata": {},
   "outputs": [],
   "source": [
    "comparison_table.to_csv(OUTPUT_FILE_NAME, index_label='problem')"
   ]
  },
  {
   "cell_type": "markdown",
   "metadata": {},
   "source": [
    "#### 5. Try 3 neighbourhoods for shaking"
   ]
  },
  {
   "cell_type": "code",
   "execution_count": 52,
   "metadata": {},
   "outputs": [],
   "source": [
    "NUMBER_OF_PROBLEMS = 0\n",
    "OUTPUT_FILE_NAME = get_comparison_table_file_name('3_neighbourhoods', str(NUMBER_OF_PROBLEMS), LATEST_COMMIT_ID)"
   ]
  },
  {
   "cell_type": "code",
   "execution_count": 53,
   "metadata": {},
   "outputs": [],
   "source": [
    "from utils import NEIGHBOURHOOD_TYPES"
   ]
  },
  {
   "cell_type": "code",
   "execution_count": 54,
   "metadata": {},
   "outputs": [],
   "source": [
    "def basic_VNS_with_3_neighbourhoods(problem):\n",
    "    return basic_VNS(problem, neighbourhood_types=NEIGHBOURHOOD_TYPES)"
   ]
  },
  {
   "cell_type": "code",
   "execution_count": 55,
   "metadata": {},
   "outputs": [
    {
     "name": "stderr",
     "output_type": "stream",
     "text": [
      "0it [00:00, ?it/s]\n"
     ]
    }
   ],
   "source": [
    "comparison_table = get_comparison_table(\n",
    "    [basic_VNS, basic_VNS_with_3_neighbourhoods], \n",
    "    NUMBER_OF_PROBLEMS, DATASET, INPUT_DIRECTORY, SOLUTIONS_FILE)"
   ]
  },
  {
   "cell_type": "code",
   "execution_count": 56,
   "metadata": {},
   "outputs": [
    {
     "data": {
      "text/html": [
       "<div>\n",
       "<style scoped>\n",
       "    .dataframe tbody tr th:only-of-type {\n",
       "        vertical-align: middle;\n",
       "    }\n",
       "\n",
       "    .dataframe tbody tr th {\n",
       "        vertical-align: top;\n",
       "    }\n",
       "\n",
       "    .dataframe thead th {\n",
       "        text-align: right;\n",
       "    }\n",
       "</style>\n",
       "<table border=\"1\" class=\"dataframe\">\n",
       "  <thead>\n",
       "    <tr style=\"text-align: right;\">\n",
       "      <th></th>\n",
       "      <th>optimal solution</th>\n",
       "      <th>basic_VNS - solution</th>\n",
       "      <th>basic_VNS - deviation (%)</th>\n",
       "      <th>basic_VNS - time (s)</th>\n",
       "      <th>basic_VNS_with_3_neighbourhoods - solution</th>\n",
       "      <th>basic_VNS_with_3_neighbourhoods - deviation (%)</th>\n",
       "      <th>basic_VNS_with_3_neighbourhoods - time (s)</th>\n",
       "    </tr>\n",
       "  </thead>\n",
       "  <tbody>\n",
       "  </tbody>\n",
       "</table>\n",
       "</div>"
      ],
      "text/plain": [
       "Empty DataFrame\n",
       "Columns: [optimal solution, basic_VNS - solution, basic_VNS - deviation (%), basic_VNS - time (s), basic_VNS_with_3_neighbourhoods - solution, basic_VNS_with_3_neighbourhoods - deviation (%), basic_VNS_with_3_neighbourhoods - time (s)]\n",
       "Index: []"
      ]
     },
     "execution_count": 56,
     "metadata": {},
     "output_type": "execute_result"
    }
   ],
   "source": [
    "comparison_table.head(NUMBER_OF_PROBLEMS)"
   ]
  },
  {
   "cell_type": "code",
   "execution_count": 57,
   "metadata": {},
   "outputs": [],
   "source": [
    "comparison_table.to_csv(OUTPUT_FILE_NAME, index_label='problem')"
   ]
  }
 ],
 "metadata": {
  "kernelspec": {
   "display_name": "Python 3",
   "language": "python",
   "name": "python3"
  },
  "language_info": {
   "codemirror_mode": {
    "name": "ipython",
    "version": 3
   },
   "file_extension": ".py",
   "mimetype": "text/x-python",
   "name": "python",
   "nbconvert_exporter": "python",
   "pygments_lexer": "ipython3",
   "version": "3.10.12"
  },
  "orig_nbformat": 4
 },
 "nbformat": 4,
 "nbformat_minor": 2
}
