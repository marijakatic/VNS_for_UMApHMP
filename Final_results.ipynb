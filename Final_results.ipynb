{
 "cells": [
  {
   "cell_type": "markdown",
   "metadata": {},
   "source": [
    "## Final results for the chosen heuristic\n",
    "\n",
    "RVNS (shaking_intensity=0.5, k_max=3, initialization= min-max edges)"
   ]
  },
  {
   "cell_type": "code",
   "execution_count": 1,
   "metadata": {},
   "outputs": [],
   "source": [
    "import sys\n",
    "from os import listdir\n",
    "from os.path import isfile, join\n",
    "import string\n",
    "\n",
    "import numpy as np\n",
    "from plot_utils import plot_two_solutions\n",
    "import matplotlib.pyplot as plt \n",
    "\n",
    "from ioutils import parse_input\n",
    "from ioutils import parse_solutions\n",
    "from utils import get_distance_matrix\n",
    "from utils import get_discount_matrix\n",
    "from utils import allocate_paths\n",
    "from utils import get_nodes\n",
    "from utils import get_total_cost\n",
    "from utils import get_flow_from_paths\n",
    "import cplex_utils\n",
    "import graph_utils as graph_utils\n",
    "\n",
    "from ioutils import get_comparison_table_file_name\n",
    "from utils import get_latest_commit_id\n",
    "from utils import get_comparison_table\n",
    "\n",
    "import pandas as pd"
   ]
  },
  {
   "cell_type": "code",
   "execution_count": 2,
   "metadata": {},
   "outputs": [],
   "source": [
    "DATASET = 'AP'\n",
    "INPUT_DIRECTORY = \"./data/AP/generated/\"\n",
    "SOLUTIONS_FILE ='/home/ubuntu/VNS_for_UMApHMP/data/AP/Solutions-UMApHMP.txt'"
   ]
  },
  {
   "cell_type": "code",
   "execution_count": 3,
   "metadata": {},
   "outputs": [],
   "source": [
    "from vns import get_initial_solution_random\n",
    "from vns import get_initial_solution_robust\n",
    "from vns import get_initial_solution_circle\n",
    "\n",
    "from vns import local_search_best_improvement\n",
    "from vns import local_search_first_improvement\n",
    "\n",
    "\n",
    "from vns import reduced_VNS\n",
    "\n",
    "from utils import NEIGHBOURHOOD_TYPES\n",
    "\n",
    "from ioutils import get_comparison_table_file_name\n",
    "from utils import get_latest_commit_id"
   ]
  },
  {
   "cell_type": "code",
   "execution_count": 4,
   "metadata": {},
   "outputs": [],
   "source": [
    "NUMBER_OF_PROBLEMS = 9\n",
    "OUTPUT_FILE_NAME = get_comparison_table_file_name('final_results', str(NUMBER_OF_PROBLEMS), get_latest_commit_id())"
   ]
  },
  {
   "cell_type": "code",
   "execution_count": 5,
   "metadata": {},
   "outputs": [],
   "source": [
    "def best_ls(solution, neighbourhood_type, use_c):\n",
    "    return local_search_best_improvement(solution, neighbourhood_type, use_c)\n",
    "\n",
    "def first_ls(solution, neighbourhood_type, use_c):\n",
    "    return local_search_first_improvement(solution, neighbourhood_type, use_c)\n",
    "\n",
    "def random_init(n, p, distances, nodes_coor):\n",
    "    return get_initial_solution_random(n, p, distances, nodes_coor)\n",
    "\n",
    "def grane_init(n, p, distances, nodes_coor):\n",
    "    return get_initial_solution_robust(n, p, distances, nodes_coor)\n",
    "\n",
    "def uglovi_init(n, p, distances, nodes_coor):\n",
    "    return get_initial_solution_circle(n, p, distances, nodes_coor)\n"
   ]
  },
  {
   "cell_type": "code",
   "execution_count": 6,
   "metadata": {},
   "outputs": [],
   "source": [
    "# ------- algorithm parameters --------\n",
    "shaking_intensity = [0.5]\n",
    "initializations = [grane_init]\n",
    "max_iters = [10]\n",
    "kmax_options = [3]"
   ]
  },
  {
   "cell_type": "code",
   "execution_count": 7,
   "metadata": {},
   "outputs": [],
   "source": [
    "methods = []\n",
    "names = []\n",
    "\n",
    "for shake_int in shaking_intensity:\n",
    "    for kmax in kmax_options:\n",
    "        for max_iter in max_iters:\n",
    "            methods.append(lambda problem, initial_solution: reduced_VNS(problem, initial_solution=initial_solution, diversification_param=shake_int, neighbourhood_types=NEIGHBOURHOOD_TYPES[:kmax], max_iter=max_iter))\n",
    "            names.append(\" \".join([\"RVNS\", \"shake=\"+str(shake_int), \"kmax=\"+str(kmax), \"max_iter=\"+str(max_iter)]))"
   ]
  },
  {
   "cell_type": "code",
   "execution_count": 8,
   "metadata": {},
   "outputs": [
    {
     "data": {
      "text/plain": [
       "1"
      ]
     },
     "execution_count": 8,
     "metadata": {},
     "output_type": "execute_result"
    }
   ],
   "source": [
    "len(names)"
   ]
  },
  {
   "cell_type": "code",
   "execution_count": 9,
   "metadata": {},
   "outputs": [
    {
     "data": {
      "text/plain": [
       "['RVNS shake=0.5 kmax=3 max_iter=10']"
      ]
     },
     "execution_count": 9,
     "metadata": {},
     "output_type": "execute_result"
    }
   ],
   "source": [
    "names[:5]"
   ]
  },
  {
   "cell_type": "code",
   "execution_count": 10,
   "metadata": {},
   "outputs": [
    {
     "name": "stderr",
     "output_type": "stream",
     "text": [
      "  0%|          | 0/12 [00:00<?, ?it/s]"
     ]
    },
    {
     "name": "stderr",
     "output_type": "stream",
     "text": [
      "100%|██████████| 12/12 [08:08<00:00, 40.67s/it]\n"
     ]
    }
   ],
   "source": [
    "comparison_table = get_comparison_table(\n",
    "    methods,\n",
    "    names,\n",
    "    DATASET, INPUT_DIRECTORY, SOLUTIONS_FILE,\n",
    "    from_problem=-8,\n",
    "    to_problems=40,\n",
    "    initializations=initializations,\n",
    "    display_solution=True,\n",
    "    display_nan=True)\n",
    "comparison_table.to_csv(OUTPUT_FILE_NAME, index_label='problem')"
   ]
  },
  {
   "cell_type": "code",
   "execution_count": 11,
   "metadata": {},
   "outputs": [
    {
     "data": {
      "text/html": [
       "<div>\n",
       "<style scoped>\n",
       "    .dataframe tbody tr th:only-of-type {\n",
       "        vertical-align: middle;\n",
       "    }\n",
       "\n",
       "    .dataframe tbody tr th {\n",
       "        vertical-align: top;\n",
       "    }\n",
       "\n",
       "    .dataframe thead th {\n",
       "        text-align: right;\n",
       "    }\n",
       "</style>\n",
       "<table border=\"1\" class=\"dataframe\">\n",
       "  <thead>\n",
       "    <tr style=\"text-align: right;\">\n",
       "      <th></th>\n",
       "      <th>optimal solution</th>\n",
       "      <th>RVNS shake=0.5 kmax=3 max_iter=10 grane_init - solution</th>\n",
       "      <th>RVNS shake=0.5 kmax=3 max_iter=10 grane_init - deviation (%)</th>\n",
       "      <th>RVNS shake=0.5 kmax=3 max_iter=10 grane_init - time (s)</th>\n",
       "    </tr>\n",
       "  </thead>\n",
       "  <tbody>\n",
       "    <tr>\n",
       "      <th>100.2</th>\n",
       "      <td>176245.380</td>\n",
       "      <td>176245.3300</td>\n",
       "      <td>0.0</td>\n",
       "      <td>2.380000</td>\n",
       "    </tr>\n",
       "    <tr>\n",
       "      <th>100.3</th>\n",
       "      <td>157869.930</td>\n",
       "      <td>157869.8700</td>\n",
       "      <td>0.0</td>\n",
       "      <td>4.070000</td>\n",
       "    </tr>\n",
       "    <tr>\n",
       "      <th>100.4</th>\n",
       "      <td>143004.310</td>\n",
       "      <td>143004.2500</td>\n",
       "      <td>0.0</td>\n",
       "      <td>5.480000</td>\n",
       "    </tr>\n",
       "    <tr>\n",
       "      <th>100.5</th>\n",
       "      <td>133482.570</td>\n",
       "      <td>133482.5300</td>\n",
       "      <td>0.0</td>\n",
       "      <td>7.710000</td>\n",
       "    </tr>\n",
       "    <tr>\n",
       "      <th>100.8</th>\n",
       "      <td>NaN</td>\n",
       "      <td>115143.5500</td>\n",
       "      <td>NaN</td>\n",
       "      <td>16.010000</td>\n",
       "    </tr>\n",
       "    <tr>\n",
       "      <th>100.10</th>\n",
       "      <td>NaN</td>\n",
       "      <td>104794.0000</td>\n",
       "      <td>NaN</td>\n",
       "      <td>23.720000</td>\n",
       "    </tr>\n",
       "    <tr>\n",
       "      <th>200.2</th>\n",
       "      <td>178093.990</td>\n",
       "      <td>178093.8900</td>\n",
       "      <td>0.0</td>\n",
       "      <td>17.420000</td>\n",
       "    </tr>\n",
       "    <tr>\n",
       "      <th>200.3</th>\n",
       "      <td>159725.110</td>\n",
       "      <td>159725.0100</td>\n",
       "      <td>0.0</td>\n",
       "      <td>26.120000</td>\n",
       "    </tr>\n",
       "    <tr>\n",
       "      <th>200.4</th>\n",
       "      <td>NaN</td>\n",
       "      <td>144508.1100</td>\n",
       "      <td>NaN</td>\n",
       "      <td>40.190000</td>\n",
       "    </tr>\n",
       "    <tr>\n",
       "      <th>200.5</th>\n",
       "      <td>NaN</td>\n",
       "      <td>136777.8200</td>\n",
       "      <td>NaN</td>\n",
       "      <td>56.930000</td>\n",
       "    </tr>\n",
       "    <tr>\n",
       "      <th>200.8</th>\n",
       "      <td>NaN</td>\n",
       "      <td>118825.2400</td>\n",
       "      <td>NaN</td>\n",
       "      <td>124.450000</td>\n",
       "    </tr>\n",
       "    <tr>\n",
       "      <th>200.10</th>\n",
       "      <td>NaN</td>\n",
       "      <td>108913.5300</td>\n",
       "      <td>NaN</td>\n",
       "      <td>163.480000</td>\n",
       "    </tr>\n",
       "    <tr>\n",
       "      <th>mean</th>\n",
       "      <td>158070.215</td>\n",
       "      <td>139781.9275</td>\n",
       "      <td>0.0</td>\n",
       "      <td>40.663333</td>\n",
       "    </tr>\n",
       "  </tbody>\n",
       "</table>\n",
       "</div>"
      ],
      "text/plain": [
       "        optimal solution  \\\n",
       "100.2         176245.380   \n",
       "100.3         157869.930   \n",
       "100.4         143004.310   \n",
       "100.5         133482.570   \n",
       "100.8                NaN   \n",
       "100.10               NaN   \n",
       "200.2         178093.990   \n",
       "200.3         159725.110   \n",
       "200.4                NaN   \n",
       "200.5                NaN   \n",
       "200.8                NaN   \n",
       "200.10               NaN   \n",
       "mean          158070.215   \n",
       "\n",
       "        RVNS shake=0.5 kmax=3 max_iter=10 grane_init - solution  \\\n",
       "100.2                                         176245.3300         \n",
       "100.3                                         157869.8700         \n",
       "100.4                                         143004.2500         \n",
       "100.5                                         133482.5300         \n",
       "100.8                                         115143.5500         \n",
       "100.10                                        104794.0000         \n",
       "200.2                                         178093.8900         \n",
       "200.3                                         159725.0100         \n",
       "200.4                                         144508.1100         \n",
       "200.5                                         136777.8200         \n",
       "200.8                                         118825.2400         \n",
       "200.10                                        108913.5300         \n",
       "mean                                          139781.9275         \n",
       "\n",
       "        RVNS shake=0.5 kmax=3 max_iter=10 grane_init - deviation (%)  \\\n",
       "100.2                                                 0.0              \n",
       "100.3                                                 0.0              \n",
       "100.4                                                 0.0              \n",
       "100.5                                                 0.0              \n",
       "100.8                                                 NaN              \n",
       "100.10                                                NaN              \n",
       "200.2                                                 0.0              \n",
       "200.3                                                 0.0              \n",
       "200.4                                                 NaN              \n",
       "200.5                                                 NaN              \n",
       "200.8                                                 NaN              \n",
       "200.10                                                NaN              \n",
       "mean                                                  0.0              \n",
       "\n",
       "        RVNS shake=0.5 kmax=3 max_iter=10 grane_init - time (s)  \n",
       "100.2                                            2.380000        \n",
       "100.3                                            4.070000        \n",
       "100.4                                            5.480000        \n",
       "100.5                                            7.710000        \n",
       "100.8                                           16.010000        \n",
       "100.10                                          23.720000        \n",
       "200.2                                           17.420000        \n",
       "200.3                                           26.120000        \n",
       "200.4                                           40.190000        \n",
       "200.5                                           56.930000        \n",
       "200.8                                          124.450000        \n",
       "200.10                                         163.480000        \n",
       "mean                                            40.663333        "
      ]
     },
     "execution_count": 11,
     "metadata": {},
     "output_type": "execute_result"
    }
   ],
   "source": [
    "comparison_table.head(100)"
   ]
  },
  {
   "cell_type": "code",
   "execution_count": 19,
   "metadata": {},
   "outputs": [],
   "source": [
    "INPUT_DIRECTORY = \"./data/AP/generated_large/\"\n",
    "OUTPUT_FILE_NAME = get_comparison_table_file_name('final_results_on_large', str(NUMBER_OF_PROBLEMS), get_latest_commit_id())"
   ]
  },
  {
   "cell_type": "code",
   "execution_count": 20,
   "metadata": {},
   "outputs": [
    {
     "name": "stderr",
     "output_type": "stream",
     "text": [
      "  0%|          | 0/8 [00:00<?, ?it/s]"
     ]
    },
    {
     "name": "stderr",
     "output_type": "stream",
     "text": [
      "100%|██████████| 8/8 [1:01:07<00:00, 458.44s/it]\n"
     ]
    }
   ],
   "source": [
    "comparison_table = get_comparison_table(\n",
    "    methods,\n",
    "    names,\n",
    "    DATASET, INPUT_DIRECTORY, SOLUTIONS_FILE,\n",
    "    from_problem=2,\n",
    "    to_problems=10,\n",
    "    initializations=initializations,\n",
    "    display_solution=True,\n",
    "    display_nan=True)\n",
    "comparison_table.to_csv(OUTPUT_FILE_NAME, index_label='problem')"
   ]
  },
  {
   "cell_type": "code",
   "execution_count": 21,
   "metadata": {},
   "outputs": [
    {
     "data": {
      "text/html": [
       "<div>\n",
       "<style scoped>\n",
       "    .dataframe tbody tr th:only-of-type {\n",
       "        vertical-align: middle;\n",
       "    }\n",
       "\n",
       "    .dataframe tbody tr th {\n",
       "        vertical-align: top;\n",
       "    }\n",
       "\n",
       "    .dataframe thead th {\n",
       "        text-align: right;\n",
       "    }\n",
       "</style>\n",
       "<table border=\"1\" class=\"dataframe\">\n",
       "  <thead>\n",
       "    <tr style=\"text-align: right;\">\n",
       "      <th></th>\n",
       "      <th>optimal solution</th>\n",
       "      <th>RVNS shake=0.5 kmax=3 max_iter=10 grane_init - solution</th>\n",
       "      <th>RVNS shake=0.5 kmax=3 max_iter=10 grane_init - deviation (%)</th>\n",
       "      <th>RVNS shake=0.5 kmax=3 max_iter=10 grane_init - time (s)</th>\n",
       "    </tr>\n",
       "  </thead>\n",
       "  <tbody>\n",
       "    <tr>\n",
       "      <th>100.15</th>\n",
       "      <td>None</td>\n",
       "      <td>89037.1800</td>\n",
       "      <td>None</td>\n",
       "      <td>39.2900</td>\n",
       "    </tr>\n",
       "    <tr>\n",
       "      <th>100.20</th>\n",
       "      <td>None</td>\n",
       "      <td>79409.0500</td>\n",
       "      <td>None</td>\n",
       "      <td>71.1000</td>\n",
       "    </tr>\n",
       "    <tr>\n",
       "      <th>100.25</th>\n",
       "      <td>None</td>\n",
       "      <td>72164.1900</td>\n",
       "      <td>None</td>\n",
       "      <td>102.8700</td>\n",
       "    </tr>\n",
       "    <tr>\n",
       "      <th>100.30</th>\n",
       "      <td>None</td>\n",
       "      <td>67200.9500</td>\n",
       "      <td>None</td>\n",
       "      <td>122.7700</td>\n",
       "    </tr>\n",
       "    <tr>\n",
       "      <th>200.15</th>\n",
       "      <td>None</td>\n",
       "      <td>92917.6400</td>\n",
       "      <td>None</td>\n",
       "      <td>355.3900</td>\n",
       "    </tr>\n",
       "    <tr>\n",
       "      <th>200.20</th>\n",
       "      <td>None</td>\n",
       "      <td>83385.8600</td>\n",
       "      <td>None</td>\n",
       "      <td>695.2400</td>\n",
       "    </tr>\n",
       "    <tr>\n",
       "      <th>200.25</th>\n",
       "      <td>None</td>\n",
       "      <td>77052.0700</td>\n",
       "      <td>None</td>\n",
       "      <td>948.3400</td>\n",
       "    </tr>\n",
       "    <tr>\n",
       "      <th>200.30</th>\n",
       "      <td>None</td>\n",
       "      <td>72252.2800</td>\n",
       "      <td>None</td>\n",
       "      <td>1332.4600</td>\n",
       "    </tr>\n",
       "    <tr>\n",
       "      <th>mean</th>\n",
       "      <td>NaN</td>\n",
       "      <td>79177.4025</td>\n",
       "      <td>NaN</td>\n",
       "      <td>458.4325</td>\n",
       "    </tr>\n",
       "  </tbody>\n",
       "</table>\n",
       "</div>"
      ],
      "text/plain": [
       "       optimal solution  \\\n",
       "100.15             None   \n",
       "100.20             None   \n",
       "100.25             None   \n",
       "100.30             None   \n",
       "200.15             None   \n",
       "200.20             None   \n",
       "200.25             None   \n",
       "200.30             None   \n",
       "mean                NaN   \n",
       "\n",
       "        RVNS shake=0.5 kmax=3 max_iter=10 grane_init - solution  \\\n",
       "100.15                                         89037.1800         \n",
       "100.20                                         79409.0500         \n",
       "100.25                                         72164.1900         \n",
       "100.30                                         67200.9500         \n",
       "200.15                                         92917.6400         \n",
       "200.20                                         83385.8600         \n",
       "200.25                                         77052.0700         \n",
       "200.30                                         72252.2800         \n",
       "mean                                           79177.4025         \n",
       "\n",
       "       RVNS shake=0.5 kmax=3 max_iter=10 grane_init - deviation (%)  \\\n",
       "100.15                                               None             \n",
       "100.20                                               None             \n",
       "100.25                                               None             \n",
       "100.30                                               None             \n",
       "200.15                                               None             \n",
       "200.20                                               None             \n",
       "200.25                                               None             \n",
       "200.30                                               None             \n",
       "mean                                                  NaN             \n",
       "\n",
       "        RVNS shake=0.5 kmax=3 max_iter=10 grane_init - time (s)  \n",
       "100.15                                            39.2900        \n",
       "100.20                                            71.1000        \n",
       "100.25                                           102.8700        \n",
       "100.30                                           122.7700        \n",
       "200.15                                           355.3900        \n",
       "200.20                                           695.2400        \n",
       "200.25                                           948.3400        \n",
       "200.30                                          1332.4600        \n",
       "mean                                             458.4325        "
      ]
     },
     "execution_count": 21,
     "metadata": {},
     "output_type": "execute_result"
    }
   ],
   "source": [
    "comparison_table.head(100)"
   ]
  }
 ],
 "metadata": {
  "kernelspec": {
   "display_name": "Python 3",
   "language": "python",
   "name": "python3"
  },
  "language_info": {
   "codemirror_mode": {
    "name": "ipython",
    "version": 3
   },
   "file_extension": ".py",
   "mimetype": "text/x-python",
   "name": "python",
   "nbconvert_exporter": "python",
   "pygments_lexer": "ipython3",
   "version": "3.10.12"
  },
  "orig_nbformat": 4
 },
 "nbformat": 4,
 "nbformat_minor": 2
}
